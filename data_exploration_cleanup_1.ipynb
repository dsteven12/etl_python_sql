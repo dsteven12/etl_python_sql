{
 "cells": [
  {
   "cell_type": "code",
   "execution_count": 2,
   "metadata": {},
   "outputs": [],
   "source": [
    "import polars as pl"
   ]
  },
  {
   "attachments": {},
   "cell_type": "markdown",
   "metadata": {},
   "source": [
    "## Sample Data Creation"
   ]
  },
  {
   "cell_type": "code",
   "execution_count": 3,
   "metadata": {},
   "outputs": [],
   "source": [
    "data = {\n",
    "    \"id\": [1, 2, 3, 4, 5, 1],\n",
    "    \"product customer purchased\": [\"Widget A\", \"Widget B\", \"Widget C\", \"Widget D\", \"Widget E\", \"Widget A\"],\n",
    "    \"Name of customer\": [\"John Doe\", \"Jane Smith\", \"Bob Johnson\", \"Susan Brown\", \"Mary Wilson\", \"John Doe\"],\n",
    "    \"address of customer\": [\"123 Main St\", \"456 Elm St\", \"789 Oak St\", \"234 Pine St\", \"567 Birch St\", \"123 Main St\"],\n",
    "    \"email of customer\": [\"john.doe@email.com\", \"\", \"bob.johnson@email.com\", \"susan.brown@email.com\", \"mary.wilson@email.com\", \"john.doe@email.com\"],\n",
    "    \"phone number of customer\": [\"123-456-7890\", \"987-654-3210\", \"555-123-7890\", \"777-888-9999\", \"111-222-3333\", \"123-456-7890\"],\n",
    "    \"time of purchase\": [\"2023-08-10 09:15:00\", \"2023-08-10 10:30:00\", \"2023-08-11 14:45:00\", \"2023-08-11 15:30:00\", \"2023-08-12 11:20:00\", \"2023-08-10 09:15:00\"]\n",
    "}"
   ]
  },
  {
   "cell_type": "code",
   "execution_count": 4,
   "metadata": {},
   "outputs": [],
   "source": [
    "df = pl.DataFrame(data)"
   ]
  },
  {
   "cell_type": "code",
   "execution_count": 5,
   "metadata": {},
   "outputs": [
    {
     "data": {
      "text/html": [
       "<div><style>\n",
       ".dataframe > thead > tr,\n",
       ".dataframe > tbody > tr {\n",
       "  text-align: right;\n",
       "  white-space: pre-wrap;\n",
       "}\n",
       "</style>\n",
       "<small>shape: (6, 7)</small><table border=\"1\" class=\"dataframe\"><thead><tr><th>id</th><th>product customer purchased</th><th>Name of customer</th><th>address of customer</th><th>email of customer</th><th>phone number of customer</th><th>time of purchase</th></tr><tr><td>i64</td><td>str</td><td>str</td><td>str</td><td>str</td><td>str</td><td>str</td></tr></thead><tbody><tr><td>1</td><td>&quot;Widget A&quot;</td><td>&quot;John Doe&quot;</td><td>&quot;123 Main St&quot;</td><td>&quot;john.doe@email…</td><td>&quot;123-456-7890&quot;</td><td>&quot;2023-08-10 09:…</td></tr><tr><td>2</td><td>&quot;Widget B&quot;</td><td>&quot;Jane Smith&quot;</td><td>&quot;456 Elm St&quot;</td><td>&quot;&quot;</td><td>&quot;987-654-3210&quot;</td><td>&quot;2023-08-10 10:…</td></tr><tr><td>3</td><td>&quot;Widget C&quot;</td><td>&quot;Bob Johnson&quot;</td><td>&quot;789 Oak St&quot;</td><td>&quot;bob.johnson@em…</td><td>&quot;555-123-7890&quot;</td><td>&quot;2023-08-11 14:…</td></tr><tr><td>4</td><td>&quot;Widget D&quot;</td><td>&quot;Susan Brown&quot;</td><td>&quot;234 Pine St&quot;</td><td>&quot;susan.brown@em…</td><td>&quot;777-888-9999&quot;</td><td>&quot;2023-08-11 15:…</td></tr><tr><td>5</td><td>&quot;Widget E&quot;</td><td>&quot;Mary Wilson&quot;</td><td>&quot;567 Birch St&quot;</td><td>&quot;mary.wilson@em…</td><td>&quot;111-222-3333&quot;</td><td>&quot;2023-08-12 11:…</td></tr><tr><td>1</td><td>&quot;Widget A&quot;</td><td>&quot;John Doe&quot;</td><td>&quot;123 Main St&quot;</td><td>&quot;john.doe@email…</td><td>&quot;123-456-7890&quot;</td><td>&quot;2023-08-10 09:…</td></tr></tbody></table></div>"
      ],
      "text/plain": [
       "shape: (6, 7)\n",
       "┌─────┬───────────┬─────────────┬──────────────┬───────────────────┬──────────────────┬────────────┐\n",
       "│ id  ┆ product   ┆ Name of     ┆ address of   ┆ email of customer ┆ phone number of  ┆ time of    │\n",
       "│ --- ┆ customer  ┆ customer    ┆ customer     ┆ ---               ┆ customer         ┆ purchase   │\n",
       "│ i64 ┆ purchased ┆ ---         ┆ ---          ┆ str               ┆ ---              ┆ ---        │\n",
       "│     ┆ ---       ┆ str         ┆ str          ┆                   ┆ str              ┆ str        │\n",
       "│     ┆ str       ┆             ┆              ┆                   ┆                  ┆            │\n",
       "╞═════╪═══════════╪═════════════╪══════════════╪═══════════════════╪══════════════════╪════════════╡\n",
       "│ 1   ┆ Widget A  ┆ John Doe    ┆ 123 Main St  ┆ john.doe@email.co ┆ 123-456-7890     ┆ 2023-08-10 │\n",
       "│     ┆           ┆             ┆              ┆ m                 ┆                  ┆ 09:15:00   │\n",
       "│ 2   ┆ Widget B  ┆ Jane Smith  ┆ 456 Elm St   ┆                   ┆ 987-654-3210     ┆ 2023-08-10 │\n",
       "│     ┆           ┆             ┆              ┆                   ┆                  ┆ 10:30:00   │\n",
       "│ 3   ┆ Widget C  ┆ Bob Johnson ┆ 789 Oak St   ┆ bob.johnson@email ┆ 555-123-7890     ┆ 2023-08-11 │\n",
       "│     ┆           ┆             ┆              ┆ .com              ┆                  ┆ 14:45:00   │\n",
       "│ 4   ┆ Widget D  ┆ Susan Brown ┆ 234 Pine St  ┆ susan.brown@email ┆ 777-888-9999     ┆ 2023-08-11 │\n",
       "│     ┆           ┆             ┆              ┆ .com              ┆                  ┆ 15:30:00   │\n",
       "│ 5   ┆ Widget E  ┆ Mary Wilson ┆ 567 Birch St ┆ mary.wilson@email ┆ 111-222-3333     ┆ 2023-08-12 │\n",
       "│     ┆           ┆             ┆              ┆ .com              ┆                  ┆ 11:20:00   │\n",
       "│ 1   ┆ Widget A  ┆ John Doe    ┆ 123 Main St  ┆ john.doe@email.co ┆ 123-456-7890     ┆ 2023-08-10 │\n",
       "│     ┆           ┆             ┆              ┆ m                 ┆                  ┆ 09:15:00   │\n",
       "└─────┴───────────┴─────────────┴──────────────┴───────────────────┴──────────────────┴────────────┘"
      ]
     },
     "execution_count": 5,
     "metadata": {},
     "output_type": "execute_result"
    }
   ],
   "source": [
    "df"
   ]
  },
  {
   "cell_type": "code",
   "execution_count": 6,
   "metadata": {},
   "outputs": [
    {
     "data": {
      "text/plain": [
       "OrderedDict([('id', Int64),\n",
       "             ('product customer purchased', String),\n",
       "             ('Name of customer', String),\n",
       "             ('address of customer', String),\n",
       "             ('email of customer', String),\n",
       "             ('phone number of customer', String),\n",
       "             ('time of purchase', String)])"
      ]
     },
     "execution_count": 6,
     "metadata": {},
     "output_type": "execute_result"
    }
   ],
   "source": [
    "df.schema"
   ]
  },
  {
   "cell_type": "code",
   "execution_count": 7,
   "metadata": {},
   "outputs": [
    {
     "data": {
      "text/html": [
       "<div><style>\n",
       ".dataframe > thead > tr,\n",
       ".dataframe > tbody > tr {\n",
       "  text-align: right;\n",
       "  white-space: pre-wrap;\n",
       "}\n",
       "</style>\n",
       "<small>shape: (1, 7)</small><table border=\"1\" class=\"dataframe\"><thead><tr><th>id</th><th>product customer purchased</th><th>Name of customer</th><th>address of customer</th><th>email of customer</th><th>phone number of customer</th><th>time of purchase</th></tr><tr><td>u32</td><td>u32</td><td>u32</td><td>u32</td><td>u32</td><td>u32</td><td>u32</td></tr></thead><tbody><tr><td>0</td><td>0</td><td>0</td><td>0</td><td>0</td><td>0</td><td>0</td></tr></tbody></table></div>"
      ],
      "text/plain": [
       "shape: (1, 7)\n",
       "┌─────┬───────────┬──────────┬────────────┬──────────┬─────────────────┬──────────────────┐\n",
       "│ id  ┆ product   ┆ Name of  ┆ address of ┆ email of ┆ phone number of ┆ time of purchase │\n",
       "│ --- ┆ customer  ┆ customer ┆ customer   ┆ customer ┆ customer        ┆ ---              │\n",
       "│ u32 ┆ purchased ┆ ---      ┆ ---        ┆ ---      ┆ ---             ┆ u32              │\n",
       "│     ┆ ---       ┆ u32      ┆ u32        ┆ u32      ┆ u32             ┆                  │\n",
       "│     ┆ u32       ┆          ┆            ┆          ┆                 ┆                  │\n",
       "╞═════╪═══════════╪══════════╪════════════╪══════════╪═════════════════╪══════════════════╡\n",
       "│ 0   ┆ 0         ┆ 0        ┆ 0          ┆ 0        ┆ 0               ┆ 0                │\n",
       "└─────┴───────────┴──────────┴────────────┴──────────┴─────────────────┴──────────────────┘"
      ]
     },
     "execution_count": 7,
     "metadata": {},
     "output_type": "execute_result"
    }
   ],
   "source": [
    "df.null_count()"
   ]
  },
  {
   "attachments": {},
   "cell_type": "markdown",
   "metadata": {},
   "source": [
    "## Getting Unique Records Aggregating Duplicate Records into a Single Record"
   ]
  },
  {
   "cell_type": "code",
   "execution_count": 8,
   "metadata": {},
   "outputs": [],
   "source": [
    "unique_df = df.unique()"
   ]
  },
  {
   "cell_type": "code",
   "execution_count": 9,
   "metadata": {},
   "outputs": [
    {
     "data": {
      "text/html": [
       "<div><style>\n",
       ".dataframe > thead > tr,\n",
       ".dataframe > tbody > tr {\n",
       "  text-align: right;\n",
       "  white-space: pre-wrap;\n",
       "}\n",
       "</style>\n",
       "<small>shape: (5, 7)</small><table border=\"1\" class=\"dataframe\"><thead><tr><th>id</th><th>product customer purchased</th><th>Name of customer</th><th>address of customer</th><th>email of customer</th><th>phone number of customer</th><th>time of purchase</th></tr><tr><td>i64</td><td>str</td><td>str</td><td>str</td><td>str</td><td>str</td><td>str</td></tr></thead><tbody><tr><td>1</td><td>&quot;Widget A&quot;</td><td>&quot;John Doe&quot;</td><td>&quot;123 Main St&quot;</td><td>&quot;john.doe@email…</td><td>&quot;123-456-7890&quot;</td><td>&quot;2023-08-10 09:…</td></tr><tr><td>2</td><td>&quot;Widget B&quot;</td><td>&quot;Jane Smith&quot;</td><td>&quot;456 Elm St&quot;</td><td>&quot;&quot;</td><td>&quot;987-654-3210&quot;</td><td>&quot;2023-08-10 10:…</td></tr><tr><td>3</td><td>&quot;Widget C&quot;</td><td>&quot;Bob Johnson&quot;</td><td>&quot;789 Oak St&quot;</td><td>&quot;bob.johnson@em…</td><td>&quot;555-123-7890&quot;</td><td>&quot;2023-08-11 14:…</td></tr><tr><td>4</td><td>&quot;Widget D&quot;</td><td>&quot;Susan Brown&quot;</td><td>&quot;234 Pine St&quot;</td><td>&quot;susan.brown@em…</td><td>&quot;777-888-9999&quot;</td><td>&quot;2023-08-11 15:…</td></tr><tr><td>5</td><td>&quot;Widget E&quot;</td><td>&quot;Mary Wilson&quot;</td><td>&quot;567 Birch St&quot;</td><td>&quot;mary.wilson@em…</td><td>&quot;111-222-3333&quot;</td><td>&quot;2023-08-12 11:…</td></tr></tbody></table></div>"
      ],
      "text/plain": [
       "shape: (5, 7)\n",
       "┌─────┬───────────┬─────────────┬──────────────┬───────────────────┬──────────────────┬────────────┐\n",
       "│ id  ┆ product   ┆ Name of     ┆ address of   ┆ email of customer ┆ phone number of  ┆ time of    │\n",
       "│ --- ┆ customer  ┆ customer    ┆ customer     ┆ ---               ┆ customer         ┆ purchase   │\n",
       "│ i64 ┆ purchased ┆ ---         ┆ ---          ┆ str               ┆ ---              ┆ ---        │\n",
       "│     ┆ ---       ┆ str         ┆ str          ┆                   ┆ str              ┆ str        │\n",
       "│     ┆ str       ┆             ┆              ┆                   ┆                  ┆            │\n",
       "╞═════╪═══════════╪═════════════╪══════════════╪═══════════════════╪══════════════════╪════════════╡\n",
       "│ 1   ┆ Widget A  ┆ John Doe    ┆ 123 Main St  ┆ john.doe@email.co ┆ 123-456-7890     ┆ 2023-08-10 │\n",
       "│     ┆           ┆             ┆              ┆ m                 ┆                  ┆ 09:15:00   │\n",
       "│ 2   ┆ Widget B  ┆ Jane Smith  ┆ 456 Elm St   ┆                   ┆ 987-654-3210     ┆ 2023-08-10 │\n",
       "│     ┆           ┆             ┆              ┆                   ┆                  ┆ 10:30:00   │\n",
       "│ 3   ┆ Widget C  ┆ Bob Johnson ┆ 789 Oak St   ┆ bob.johnson@email ┆ 555-123-7890     ┆ 2023-08-11 │\n",
       "│     ┆           ┆             ┆              ┆ .com              ┆                  ┆ 14:45:00   │\n",
       "│ 4   ┆ Widget D  ┆ Susan Brown ┆ 234 Pine St  ┆ susan.brown@email ┆ 777-888-9999     ┆ 2023-08-11 │\n",
       "│     ┆           ┆             ┆              ┆ .com              ┆                  ┆ 15:30:00   │\n",
       "│ 5   ┆ Widget E  ┆ Mary Wilson ┆ 567 Birch St ┆ mary.wilson@email ┆ 111-222-3333     ┆ 2023-08-12 │\n",
       "│     ┆           ┆             ┆              ┆ .com              ┆                  ┆ 11:20:00   │\n",
       "└─────┴───────────┴─────────────┴──────────────┴───────────────────┴──────────────────┴────────────┘"
      ]
     },
     "execution_count": 9,
     "metadata": {},
     "output_type": "execute_result"
    }
   ],
   "source": [
    "unique_df.sort(\"id\")"
   ]
  },
  {
   "cell_type": "code",
   "execution_count": 3,
   "metadata": {},
   "outputs": [],
   "source": [
    "csv_df = pl.read_csv(\"./data/1/sample_data_1.csv\")"
   ]
  },
  {
   "cell_type": "code",
   "execution_count": 14,
   "metadata": {},
   "outputs": [
    {
     "data": {
      "text/html": [
       "<div><style>\n",
       ".dataframe > thead > tr,\n",
       ".dataframe > tbody > tr {\n",
       "  text-align: right;\n",
       "  white-space: pre-wrap;\n",
       "}\n",
       "</style>\n",
       "<small>shape: (200, 8)</small><table border=\"1\" class=\"dataframe\"><thead><tr><th>Name</th><th>Email</th><th>Phone</th><th>Address</th><th>City</th><th>Country</th><th>Date of Birth</th><th>Salary</th></tr><tr><td>str</td><td>str</td><td>str</td><td>str</td><td>str</td><td>str</td><td>str</td><td>i64</td></tr></thead><tbody><tr><td>&quot;Lisa West&quot;</td><td>&quot;andrew23@examp…</td><td>&quot;(465)852-8470&quot;</td><td>&quot;Unit 5183 Box …</td><td>&quot;Perezfort&quot;</td><td>&quot;Honduras&quot;</td><td>&quot;2001-08-05&quot;</td><td>83302</td></tr><tr><td>&quot;Jason Cole&quot;</td><td>&quot;kenneth05@exam…</td><td>&quot;7783540568&quot;</td><td>&quot;73784 Kenneth …</td><td>&quot;Port Andrea&quot;</td><td>&quot;Bolivia&quot;</td><td>&quot;2012-12-04&quot;</td><td>31035</td></tr><tr><td>&quot;Juan Crosby&quot;</td><td>&quot;zbarnes@exampl…</td><td>&quot;(676)328-6244x…</td><td>&quot;0580 Mary Row\n",
       "…</td><td>&quot;Johnborough&quot;</td><td>&quot;South Africa&quot;</td><td>&quot;1921-02-02&quot;</td><td>60226</td></tr><tr><td>&quot;April Ball&quot;</td><td>&quot;michaelmckinne…</td><td>&quot;+1-633-685-490…</td><td>&quot;6215 Hensley P…</td><td>&quot;New Eric&quot;</td><td>&quot;Greece&quot;</td><td>&quot;2023-05-08&quot;</td><td>52502</td></tr><tr><td>&quot;Donald Jackson…</td><td>&quot;peterdean@exam…</td><td>&quot;779-437-7643&quot;</td><td>&quot;156 Macdonald …</td><td>&quot;Alyssaborough&quot;</td><td>&quot;Namibia&quot;</td><td>&quot;2019-03-07&quot;</td><td>38687</td></tr><tr><td>&hellip;</td><td>&hellip;</td><td>&hellip;</td><td>&hellip;</td><td>&hellip;</td><td>&hellip;</td><td>&hellip;</td><td>&hellip;</td></tr><tr><td>&quot;Willie Shelton…</td><td>&quot;jamesdavis@exa…</td><td>&quot;277-426-9077x8…</td><td>&quot;2277 Kathryn C…</td><td>&quot;East Michael&quot;</td><td>&quot;Mongolia&quot;</td><td>&quot;2017-05-20&quot;</td><td>59788</td></tr><tr><td>&quot;Deborah Nichol…</td><td>&quot;michelle15@exa…</td><td>&quot;954-765-9968x1…</td><td>&quot;3179 Young Bro…</td><td>&quot;Port Linda&quot;</td><td>&quot;Senegal&quot;</td><td>&quot;1963-07-25&quot;</td><td>61230</td></tr><tr><td>&quot;Vanessa Wu&quot;</td><td>&quot;reginaldowens@…</td><td>&quot;+1-682-798-156…</td><td>&quot;1820 Denise Fo…</td><td>&quot;Cassandraview&quot;</td><td>&quot;Israel&quot;</td><td>&quot;1929-01-18&quot;</td><td>70482</td></tr><tr><td>&quot;Robyn Allen&quot;</td><td>&quot;chad33@example…</td><td>&quot;212-239-3934x5…</td><td>&quot;1162 Kathryn E…</td><td>&quot;Bruceberg&quot;</td><td>&quot;Iran&quot;</td><td>&quot;1941-05-17&quot;</td><td>73249</td></tr><tr><td>&quot;Scott Stewart&quot;</td><td>&quot;valerie39@exam…</td><td>&quot;956.897.0540&quot;</td><td>&quot;228 Adrian Pin…</td><td>&quot;Alexandraside&quot;</td><td>&quot;New Zealand&quot;</td><td>&quot;2019-09-30&quot;</td><td>81174</td></tr></tbody></table></div>"
      ],
      "text/plain": [
       "shape: (200, 8)\n",
       "┌────────────┬────────────┬────────────┬────────────┬────────────┬────────────┬───────────┬────────┐\n",
       "│ Name       ┆ Email      ┆ Phone      ┆ Address    ┆ City       ┆ Country    ┆ Date of   ┆ Salary │\n",
       "│ ---        ┆ ---        ┆ ---        ┆ ---        ┆ ---        ┆ ---        ┆ Birth     ┆ ---    │\n",
       "│ str        ┆ str        ┆ str        ┆ str        ┆ str        ┆ str        ┆ ---       ┆ i64    │\n",
       "│            ┆            ┆            ┆            ┆            ┆            ┆ str       ┆        │\n",
       "╞════════════╪════════════╪════════════╪════════════╪════════════╪════════════╪═══════════╪════════╡\n",
       "│ Lisa West  ┆ andrew23@e ┆ (465)852-8 ┆ Unit 5183  ┆ Perezfort  ┆ Honduras   ┆ 2001-08-0 ┆ 83302  │\n",
       "│            ┆ xample.com ┆ 470        ┆ Box 8914   ┆            ┆            ┆ 5         ┆        │\n",
       "│            ┆            ┆            ┆ DPO AP     ┆            ┆            ┆           ┆        │\n",
       "│            ┆            ┆            ┆ 26775      ┆            ┆            ┆           ┆        │\n",
       "│ Jason Cole ┆ kenneth05@ ┆ 7783540568 ┆ 73784      ┆ Port       ┆ Bolivia    ┆ 2012-12-0 ┆ 31035  │\n",
       "│            ┆ example.ne ┆            ┆ Kenneth    ┆ Andrea     ┆            ┆ 4         ┆        │\n",
       "│            ┆ t          ┆            ┆ Stream     ┆            ┆            ┆           ┆        │\n",
       "│            ┆            ┆            ┆ Apt. 200   ┆            ┆            ┆           ┆        │\n",
       "│            ┆            ┆            ┆ Fi…        ┆            ┆            ┆           ┆        │\n",
       "│ Juan       ┆ zbarnes@ex ┆ (676)328-6 ┆ 0580 Mary  ┆ Johnboroug ┆ South      ┆ 1921-02-0 ┆ 60226  │\n",
       "│ Crosby     ┆ ample.org  ┆ 244x05295  ┆ Row        ┆ h          ┆ Africa     ┆ 2         ┆        │\n",
       "│            ┆            ┆            ┆ Lake Vanes ┆            ┆            ┆           ┆        │\n",
       "│            ┆            ┆            ┆ sabury, …  ┆            ┆            ┆           ┆        │\n",
       "│ April Ball ┆ michaelmck ┆ +1-633-685 ┆ 6215       ┆ New Eric   ┆ Greece     ┆ 2023-05-0 ┆ 52502  │\n",
       "│            ┆ inney@exam ┆ -4901x2113 ┆ Hensley    ┆            ┆            ┆ 8         ┆        │\n",
       "│            ┆ ple.com    ┆            ┆ Pass Apt.  ┆            ┆            ┆           ┆        │\n",
       "│            ┆            ┆            ┆ 136        ┆            ┆            ┆           ┆        │\n",
       "│            ┆            ┆            ┆ South…     ┆            ┆            ┆           ┆        │\n",
       "│ Donald     ┆ peterdean@ ┆ 779-437-76 ┆ 156        ┆ Alyssaboro ┆ Namibia    ┆ 2019-03-0 ┆ 38687  │\n",
       "│ Jackson    ┆ example.co ┆ 43         ┆ Macdonald  ┆ ugh        ┆            ┆ 7         ┆        │\n",
       "│            ┆ m          ┆            ┆ Alley      ┆            ┆            ┆           ┆        │\n",
       "│            ┆            ┆            ┆ West       ┆            ┆            ┆           ┆        │\n",
       "│            ┆            ┆            ┆ Scottmo…   ┆            ┆            ┆           ┆        │\n",
       "│ …          ┆ …          ┆ …          ┆ …          ┆ …          ┆ …          ┆ …         ┆ …      │\n",
       "│ Willie     ┆ jamesdavis ┆ 277-426-90 ┆ 2277       ┆ East       ┆ Mongolia   ┆ 2017-05-2 ┆ 59788  │\n",
       "│ Shelton    ┆ @example.n ┆ 77x821     ┆ Kathryn    ┆ Michael    ┆            ┆ 0         ┆        │\n",
       "│            ┆ et         ┆            ┆ Cliffs     ┆            ┆            ┆           ┆        │\n",
       "│            ┆            ┆            ┆ Danielshir ┆            ┆            ┆           ┆        │\n",
       "│            ┆            ┆            ┆ e,…        ┆            ┆            ┆           ┆        │\n",
       "│ Deborah    ┆ michelle15 ┆ 954-765-99 ┆ 3179 Young ┆ Port Linda ┆ Senegal    ┆ 1963-07-2 ┆ 61230  │\n",
       "│ Nicholson  ┆ @example.n ┆ 68x1900    ┆ Brooks     ┆            ┆            ┆ 5         ┆        │\n",
       "│            ┆ et         ┆            ┆ Apt. 868   ┆            ┆            ┆           ┆        │\n",
       "│            ┆            ┆            ┆ Scott…     ┆            ┆            ┆           ┆        │\n",
       "│ Vanessa Wu ┆ reginaldow ┆ +1-682-798 ┆ 1820       ┆ Cassandrav ┆ Israel     ┆ 1929-01-1 ┆ 70482  │\n",
       "│            ┆ ens@exampl ┆ -1566x9050 ┆ Denise     ┆ iew        ┆            ┆ 8         ┆        │\n",
       "│            ┆ e.com      ┆            ┆ Forks      ┆            ┆            ┆           ┆        │\n",
       "│            ┆            ┆            ┆ East       ┆            ┆            ┆           ┆        │\n",
       "│            ┆            ┆            ┆ Katieberg… ┆            ┆            ┆           ┆        │\n",
       "│ Robyn      ┆ chad33@exa ┆ 212-239-39 ┆ 1162       ┆ Bruceberg  ┆ Iran       ┆ 1941-05-1 ┆ 73249  │\n",
       "│ Allen      ┆ mple.org   ┆ 34x599     ┆ Kathryn    ┆            ┆            ┆ 7         ┆        │\n",
       "│            ┆            ┆            ┆ Extensions ┆            ┆            ┆           ┆        │\n",
       "│            ┆            ┆            ┆ East Lar…  ┆            ┆            ┆           ┆        │\n",
       "│ Scott      ┆ valerie39@ ┆ 956.897.05 ┆ 228 Adrian ┆ Alexandras ┆ New        ┆ 2019-09-3 ┆ 81174  │\n",
       "│ Stewart    ┆ example.co ┆ 40         ┆ Pine       ┆ ide        ┆ Zealand    ┆ 0         ┆        │\n",
       "│            ┆ m          ┆            ┆ North      ┆            ┆            ┆           ┆        │\n",
       "│            ┆            ┆            ┆ Sean, IL   ┆            ┆            ┆           ┆        │\n",
       "│            ┆            ┆            ┆ 2…         ┆            ┆            ┆           ┆        │\n",
       "└────────────┴────────────┴────────────┴────────────┴────────────┴────────────┴───────────┴────────┘"
      ]
     },
     "execution_count": 14,
     "metadata": {},
     "output_type": "execute_result"
    }
   ],
   "source": [
    "csv_df"
   ]
  },
  {
   "attachments": {},
   "cell_type": "markdown",
   "metadata": {},
   "source": [
    "### Confirming Duplicate Records"
   ]
  },
  {
   "cell_type": "code",
   "execution_count": 23,
   "metadata": {},
   "outputs": [],
   "source": [
    "duplicated_records = csv_df.filter(csv_df.is_duplicated())"
   ]
  },
  {
   "cell_type": "code",
   "execution_count": 32,
   "metadata": {},
   "outputs": [],
   "source": [
    "filtered_records = duplicated_records.filter(pl.col(\"Name\") == \"Scott Stewart\")"
   ]
  },
  {
   "cell_type": "code",
   "execution_count": 37,
   "metadata": {},
   "outputs": [
    {
     "name": "stdout",
     "output_type": "stream",
     "text": [
      "This is the row type <class 'tuple'>\n",
      "('Scott Stewart', 'valerie39@example.com', '956.897.0540', '228 Adrian Pine\\nNorth Sean, IL 20499', 'Alexandraside', 'New Zealand', '2019-09-30', 81174)\n",
      "=================================\n",
      "This is the row type <class 'tuple'>\n",
      "('Scott Stewart', 'valerie39@example.com', '956.897.0540', '228 Adrian Pine\\nNorth Sean, IL 20499', 'Alexandraside', 'New Zealand', '2019-09-30', 81174)\n",
      "=================================\n",
      "This is the row type <class 'tuple'>\n",
      "('Scott Stewart', 'valerie39@example.com', '956.897.0540', '228 Adrian Pine\\nNorth Sean, IL 20499', 'Alexandraside', 'New Zealand', '2019-09-30', 81174)\n",
      "=================================\n",
      "This is the row type <class 'tuple'>\n",
      "('Scott Stewart', 'valerie39@example.com', '956.897.0540', '228 Adrian Pine\\nNorth Sean, IL 20499', 'Alexandraside', 'New Zealand', '2019-09-30', 81174)\n",
      "=================================\n",
      "This is the row type <class 'tuple'>\n",
      "('Scott Stewart', 'valerie39@example.com', '956.897.0540', '228 Adrian Pine\\nNorth Sean, IL 20499', 'Alexandraside', 'New Zealand', '2019-09-30', 81174)\n",
      "=================================\n"
     ]
    }
   ],
   "source": [
    "for row in filtered_records.rows():\n",
    "    print(f\"This is the row type {type(row)}\")\n",
    "    print(row)\n",
    "    print(\"=================================\")"
   ]
  },
  {
   "attachments": {},
   "cell_type": "markdown",
   "metadata": {},
   "source": [
    "### Creating a Unique Dataframe that aggregates duplicates into One Record"
   ]
  },
  {
   "cell_type": "code",
   "execution_count": 12,
   "metadata": {},
   "outputs": [],
   "source": [
    "unique_csv_df = csv_df.unique()"
   ]
  },
  {
   "cell_type": "code",
   "execution_count": 15,
   "metadata": {},
   "outputs": [
    {
     "data": {
      "text/html": [
       "<div><style>\n",
       ".dataframe > thead > tr,\n",
       ".dataframe > tbody > tr {\n",
       "  text-align: right;\n",
       "  white-space: pre-wrap;\n",
       "}\n",
       "</style>\n",
       "<small>shape: (172, 8)</small><table border=\"1\" class=\"dataframe\"><thead><tr><th>Name</th><th>Email</th><th>Phone</th><th>Address</th><th>City</th><th>Country</th><th>Date of Birth</th><th>Salary</th></tr><tr><td>str</td><td>str</td><td>str</td><td>str</td><td>str</td><td>str</td><td>str</td><td>i64</td></tr></thead><tbody><tr><td>&quot;Scott Stewart&quot;</td><td>&quot;valerie39@exam…</td><td>&quot;956.897.0540&quot;</td><td>&quot;228 Adrian Pin…</td><td>&quot;Alexandraside&quot;</td><td>&quot;New Zealand&quot;</td><td>&quot;2019-09-30&quot;</td><td>81174</td></tr><tr><td>&quot;Deborah Nichol…</td><td>&quot;michelle15@exa…</td><td>&quot;954-765-9968x1…</td><td>&quot;3179 Young Bro…</td><td>&quot;Port Linda&quot;</td><td>&quot;Senegal&quot;</td><td>&quot;1963-07-25&quot;</td><td>61230</td></tr><tr><td>&quot;Andrea Brooks&quot;</td><td>&quot;billy12@exampl…</td><td>&quot;869.593.8622&quot;</td><td>&quot;1989 Blake Pas…</td><td>&quot;South Steven&quot;</td><td>&quot;Azerbaijan&quot;</td><td>&quot;1985-04-30&quot;</td><td>55049</td></tr><tr><td>&quot;Amanda Haney&quot;</td><td>&quot;armstrongmark@…</td><td>&quot;848-437-9475&quot;</td><td>&quot;98549 Jordan E…</td><td>&quot;Lake Nicole&quot;</td><td>&quot;Tokelau&quot;</td><td>&quot;1957-01-31&quot;</td><td>56752</td></tr><tr><td>&quot;Crystal Freema…</td><td>&quot;christineberry…</td><td>&quot;321-515-6479x4…</td><td>&quot;744 Jamie Curv…</td><td>&quot;New Edwardview…</td><td>&quot;Algeria&quot;</td><td>&quot;1918-10-21&quot;</td><td>85768</td></tr><tr><td>&hellip;</td><td>&hellip;</td><td>&hellip;</td><td>&hellip;</td><td>&hellip;</td><td>&hellip;</td><td>&hellip;</td><td>&hellip;</td></tr><tr><td>&quot;Cameron Reed&quot;</td><td>&quot;imendoza@examp…</td><td>&quot;(816)923-0541x…</td><td>&quot;3156 Lindsey G…</td><td>&quot;Jenniferfurt&quot;</td><td>&quot;Tajikistan&quot;</td><td>&quot;1958-08-21&quot;</td><td>41460</td></tr><tr><td>&quot;Mary Wilson&quot;</td><td>&quot;emily40@exampl…</td><td>&quot;(299)828-6880&quot;</td><td>&quot;862 Kimberly R…</td><td>&quot;Port Michellev…</td><td>&quot;Benin&quot;</td><td>&quot;1972-06-29&quot;</td><td>83069</td></tr><tr><td>&quot;Michelle Steph…</td><td>&quot;fernandezcharl…</td><td>&quot;893.974.4623x3…</td><td>&quot;12161 Jason St…</td><td>&quot;Clarkburgh&quot;</td><td>&quot;Fiji&quot;</td><td>&quot;1911-06-19&quot;</td><td>91835</td></tr><tr><td>&quot;Katherine Barr…</td><td>&quot;john54@example…</td><td>&quot;(560)427-5037&quot;</td><td>&quot;8885 Farley We…</td><td>&quot;West Victoria&quot;</td><td>&quot;Bahrain&quot;</td><td>&quot;1947-06-21&quot;</td><td>75146</td></tr><tr><td>&quot;Melvin Thompso…</td><td>&quot;lauren53@examp…</td><td>&quot;712-495-6944x1…</td><td>&quot;32086 Kim Road…</td><td>&quot;Perryview&quot;</td><td>&quot;Pakistan&quot;</td><td>&quot;2010-08-24&quot;</td><td>72826</td></tr></tbody></table></div>"
      ],
      "text/plain": [
       "shape: (172, 8)\n",
       "┌────────────┬────────────┬────────────┬────────────┬────────────┬────────────┬───────────┬────────┐\n",
       "│ Name       ┆ Email      ┆ Phone      ┆ Address    ┆ City       ┆ Country    ┆ Date of   ┆ Salary │\n",
       "│ ---        ┆ ---        ┆ ---        ┆ ---        ┆ ---        ┆ ---        ┆ Birth     ┆ ---    │\n",
       "│ str        ┆ str        ┆ str        ┆ str        ┆ str        ┆ str        ┆ ---       ┆ i64    │\n",
       "│            ┆            ┆            ┆            ┆            ┆            ┆ str       ┆        │\n",
       "╞════════════╪════════════╪════════════╪════════════╪════════════╪════════════╪═══════════╪════════╡\n",
       "│ Scott      ┆ valerie39@ ┆ 956.897.05 ┆ 228 Adrian ┆ Alexandras ┆ New        ┆ 2019-09-3 ┆ 81174  │\n",
       "│ Stewart    ┆ example.co ┆ 40         ┆ Pine       ┆ ide        ┆ Zealand    ┆ 0         ┆        │\n",
       "│            ┆ m          ┆            ┆ North      ┆            ┆            ┆           ┆        │\n",
       "│            ┆            ┆            ┆ Sean, IL   ┆            ┆            ┆           ┆        │\n",
       "│            ┆            ┆            ┆ 2…         ┆            ┆            ┆           ┆        │\n",
       "│ Deborah    ┆ michelle15 ┆ 954-765-99 ┆ 3179 Young ┆ Port Linda ┆ Senegal    ┆ 1963-07-2 ┆ 61230  │\n",
       "│ Nicholson  ┆ @example.n ┆ 68x1900    ┆ Brooks     ┆            ┆            ┆ 5         ┆        │\n",
       "│            ┆ et         ┆            ┆ Apt. 868   ┆            ┆            ┆           ┆        │\n",
       "│            ┆            ┆            ┆ Scott…     ┆            ┆            ┆           ┆        │\n",
       "│ Andrea     ┆ billy12@ex ┆ 869.593.86 ┆ 1989 Blake ┆ South      ┆ Azerbaijan ┆ 1985-04-3 ┆ 55049  │\n",
       "│ Brooks     ┆ ample.com  ┆ 22         ┆ Passage    ┆ Steven     ┆            ┆ 0         ┆        │\n",
       "│            ┆            ┆            ┆ Apt. 619   ┆            ┆            ┆           ┆        │\n",
       "│            ┆            ┆            ┆ West…      ┆            ┆            ┆           ┆        │\n",
       "│ Amanda     ┆ armstrongm ┆ 848-437-94 ┆ 98549      ┆ Lake       ┆ Tokelau    ┆ 1957-01-3 ┆ 56752  │\n",
       "│ Haney      ┆ ark@exampl ┆ 75         ┆ Jordan     ┆ Nicole     ┆            ┆ 1         ┆        │\n",
       "│            ┆ e.org      ┆            ┆ Expressway ┆            ┆            ┆           ┆        │\n",
       "│            ┆            ┆            ┆ Thompson…  ┆            ┆            ┆           ┆        │\n",
       "│ Crystal    ┆ christineb ┆ 321-515-64 ┆ 744 Jamie  ┆ New        ┆ Algeria    ┆ 1918-10-2 ┆ 85768  │\n",
       "│ Freeman    ┆ erry@examp ┆ 79x4387    ┆ Curve Apt. ┆ Edwardview ┆            ┆ 1         ┆        │\n",
       "│            ┆ le.com     ┆            ┆ 404        ┆            ┆            ┆           ┆        │\n",
       "│            ┆            ┆            ┆ Gomezla…   ┆            ┆            ┆           ┆        │\n",
       "│ …          ┆ …          ┆ …          ┆ …          ┆ …          ┆ …          ┆ …         ┆ …      │\n",
       "│ Cameron    ┆ imendoza@e ┆ (816)923-0 ┆ 3156       ┆ Jenniferfu ┆ Tajikistan ┆ 1958-08-2 ┆ 41460  │\n",
       "│ Reed       ┆ xample.com ┆ 541x3281   ┆ Lindsey    ┆ rt         ┆            ┆ 1         ┆        │\n",
       "│            ┆            ┆            ┆ Gardens    ┆            ┆            ┆           ┆        │\n",
       "│            ┆            ┆            ┆ Apt. 114   ┆            ┆            ┆           ┆        │\n",
       "│            ┆            ┆            ┆ So…        ┆            ┆            ┆           ┆        │\n",
       "│ Mary       ┆ emily40@ex ┆ (299)828-6 ┆ 862        ┆ Port Miche ┆ Benin      ┆ 1972-06-2 ┆ 83069  │\n",
       "│ Wilson     ┆ ample.com  ┆ 880        ┆ Kimberly   ┆ lleville   ┆            ┆ 9         ┆        │\n",
       "│            ┆            ┆            ┆ Roads      ┆            ┆            ┆           ┆        │\n",
       "│            ┆            ┆            ┆ Lake       ┆            ┆            ┆           ┆        │\n",
       "│            ┆            ┆            ┆ Andrewto…  ┆            ┆            ┆           ┆        │\n",
       "│ Michelle   ┆ fernandezc ┆ 893.974.46 ┆ 12161      ┆ Clarkburgh ┆ Fiji       ┆ 1911-06-1 ┆ 91835  │\n",
       "│ Stephens   ┆ harles@exa ┆ 23x363     ┆ Jason      ┆            ┆            ┆ 9         ┆        │\n",
       "│            ┆ mple.org   ┆            ┆ Stravenue  ┆            ┆            ┆           ┆        │\n",
       "│            ┆            ┆            ┆ Apt. 775   ┆            ┆            ┆           ┆        │\n",
       "│            ┆            ┆            ┆ E…         ┆            ┆            ┆           ┆        │\n",
       "│ Katherine  ┆ john54@exa ┆ (560)427-5 ┆ 8885       ┆ West       ┆ Bahrain    ┆ 1947-06-2 ┆ 75146  │\n",
       "│ Barrett    ┆ mple.net   ┆ 037        ┆ Farley     ┆ Victoria   ┆            ┆ 1         ┆        │\n",
       "│            ┆            ┆            ┆ Wells      ┆            ┆            ┆           ┆        │\n",
       "│            ┆            ┆            ┆ New Kennet ┆            ┆            ┆           ┆        │\n",
       "│            ┆            ┆            ┆ hmou…      ┆            ┆            ┆           ┆        │\n",
       "│ Melvin     ┆ lauren53@e ┆ 712-495-69 ┆ 32086 Kim  ┆ Perryview  ┆ Pakistan   ┆ 2010-08-2 ┆ 72826  │\n",
       "│ Thompson   ┆ xample.org ┆ 44x110     ┆ Road       ┆            ┆            ┆ 4         ┆        │\n",
       "│            ┆            ┆            ┆ Lake       ┆            ┆            ┆           ┆        │\n",
       "│            ┆            ┆            ┆ Johnfurt,  ┆            ┆            ┆           ┆        │\n",
       "│            ┆            ┆            ┆ AK…        ┆            ┆            ┆           ┆        │\n",
       "└────────────┴────────────┴────────────┴────────────┴────────────┴────────────┴───────────┴────────┘"
      ]
     },
     "execution_count": 15,
     "metadata": {},
     "output_type": "execute_result"
    }
   ],
   "source": [
    "unique_csv_df"
   ]
  }
 ],
 "metadata": {
  "kernelspec": {
   "display_name": "base",
   "language": "python",
   "name": "python3"
  },
  "language_info": {
   "codemirror_mode": {
    "name": "ipython",
    "version": 3
   },
   "file_extension": ".py",
   "mimetype": "text/x-python",
   "name": "python",
   "nbconvert_exporter": "python",
   "pygments_lexer": "ipython3",
   "version": "3.11.5"
  },
  "orig_nbformat": 4
 },
 "nbformat": 4,
 "nbformat_minor": 2
}
