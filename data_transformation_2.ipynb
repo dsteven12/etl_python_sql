{
 "cells": [
  {
   "cell_type": "code",
   "execution_count": 94,
   "metadata": {},
   "outputs": [],
   "source": [
    "import polars as pl"
   ]
  },
  {
   "cell_type": "code",
   "execution_count": 95,
   "metadata": {},
   "outputs": [],
   "source": [
    "sample_csv_df = pl.read_csv(\"./data/2/sample_data_csv.csv\", has_header=False)"
   ]
  },
  {
   "cell_type": "code",
   "execution_count": 96,
   "metadata": {},
   "outputs": [
    {
     "data": {
      "text/html": [
       "<div><style>\n",
       ".dataframe > thead > tr,\n",
       ".dataframe > tbody > tr {\n",
       "  text-align: right;\n",
       "  white-space: pre-wrap;\n",
       "}\n",
       "</style>\n",
       "<small>shape: (5, 8)</small><table border=\"1\" class=\"dataframe\"><thead><tr><th>column_1</th><th>column_2</th><th>column_3</th><th>column_4</th><th>column_5</th><th>column_6</th><th>column_7</th><th>column_8</th></tr><tr><td>str</td><td>str</td><td>str</td><td>str</td><td>str</td><td>str</td><td>str</td><td>i64</td></tr></thead><tbody><tr><td>&quot;Lisa West&quot;</td><td>&quot;andrew23@examp…</td><td>&quot;(465)852-8470&quot;</td><td>&quot;Unit 5183 Box …</td><td>&quot;Perezfort&quot;</td><td>&quot;Honduras&quot;</td><td>&quot;2001-08-05&quot;</td><td>83302</td></tr><tr><td>&quot;Jason Cole&quot;</td><td>&quot;kenneth05@exam…</td><td>&quot;7783540568&quot;</td><td>&quot;73784 Kenneth …</td><td>&quot;Port Andrea&quot;</td><td>&quot;Bolivia&quot;</td><td>&quot;2012-12-04&quot;</td><td>31035</td></tr><tr><td>&quot;Juan Crosby&quot;</td><td>&quot;zbarnes@exampl…</td><td>&quot;(676)328-6244x…</td><td>&quot;0580 Mary Row\r…</td><td>&quot;Johnborough&quot;</td><td>&quot;South Africa&quot;</td><td>&quot;1921-02-02&quot;</td><td>60226</td></tr><tr><td>&quot;April Ball&quot;</td><td>&quot;michaelmckinne…</td><td>&quot;+1-633-685-490…</td><td>&quot;6215 Hensley P…</td><td>&quot;New Eric&quot;</td><td>&quot;Greece&quot;</td><td>&quot;2023-05-08&quot;</td><td>52502</td></tr><tr><td>&quot;Donald Jackson…</td><td>&quot;peterdean@exam…</td><td>&quot;779-437-7643&quot;</td><td>&quot;156 Macdonald …</td><td>&quot;Alyssaborough&quot;</td><td>&quot;Namibia&quot;</td><td>&quot;2019-03-07&quot;</td><td>38687</td></tr></tbody></table></div>"
      ],
      "text/plain": [
       "shape: (5, 8)\n",
       "┌────────────┬────────────┬────────────┬────────────┬───────────┬───────────┬───────────┬──────────┐\n",
       "│ column_1   ┆ column_2   ┆ column_3   ┆ column_4   ┆ column_5  ┆ column_6  ┆ column_7  ┆ column_8 │\n",
       "│ ---        ┆ ---        ┆ ---        ┆ ---        ┆ ---       ┆ ---       ┆ ---       ┆ ---      │\n",
       "│ str        ┆ str        ┆ str        ┆ str        ┆ str       ┆ str       ┆ str       ┆ i64      │\n",
       "╞════════════╪════════════╪════════════╪════════════╪═══════════╪═══════════╪═══════════╪══════════╡\n",
       "│ Lisa West  ┆ andrew23@e ┆ (465)852-8 ┆ Unit 5183  ┆ Perezfort ┆ Honduras  ┆ 2001-08-0 ┆ 83302    │\n",
       "│            ┆ xample.com ┆ 470        ┆ Box 8914\n",
       "   ┆           ┆           ┆ 5         ┆          │\n",
       "│            ┆            ┆            ┆ DPO AP     ┆           ┆           ┆           ┆          │\n",
       "│            ┆            ┆            ┆ 26775      ┆           ┆           ┆           ┆          │\n",
       "│ Jason Cole ┆ kenneth05@ ┆ 7783540568 ┆ 73784      ┆ Port      ┆ Bolivia   ┆ 2012-12-0 ┆ 31035    │\n",
       "│            ┆ example.ne ┆            ┆ Kenneth    ┆ Andrea    ┆           ┆ 4         ┆          │\n",
       "│            ┆ t          ┆            ┆ Stream     ┆           ┆           ┆           ┆          │\n",
       "│            ┆            ┆            ┆ Apt. 200\n",
       "   ┆           ┆           ┆           ┆          │\n",
       "│            ┆            ┆            ┆ F…         ┆           ┆           ┆           ┆          │\n",
       "│ Juan       ┆ zbarnes@ex ┆ (676)328-6 ┆ 0580 Mary  ┆ Johnborou ┆ South     ┆ 1921-02-0 ┆ 60226    │\n",
       "│ Crosby     ┆ ample.org  ┆ 244x05295  ┆ Row\n",
       "        ┆ gh        ┆ Africa    ┆ 2         ┆          │\n",
       "│            ┆            ┆            ┆ Lake Vanes ┆           ┆           ┆           ┆          │\n",
       "│            ┆            ┆            ┆ sabury,…   ┆           ┆           ┆           ┆          │\n",
       "│ April Ball ┆ michaelmck ┆ +1-633-685 ┆ 6215       ┆ New Eric  ┆ Greece    ┆ 2023-05-0 ┆ 52502    │\n",
       "│            ┆ inney@exam ┆ -4901x2113 ┆ Hensley    ┆           ┆           ┆ 8         ┆          │\n",
       "│            ┆ ple.com    ┆            ┆ Pass Apt.  ┆           ┆           ┆           ┆          │\n",
       "│            ┆            ┆            ┆ 136\n",
       "        ┆           ┆           ┆           ┆          │\n",
       "│            ┆            ┆            ┆ Sout…      ┆           ┆           ┆           ┆          │\n",
       "│ Donald     ┆ peterdean@ ┆ 779-437-76 ┆ 156        ┆ Alyssabor ┆ Namibia   ┆ 2019-03-0 ┆ 38687    │\n",
       "│ Jackson    ┆ example.co ┆ 43         ┆ Macdonald  ┆ ough      ┆           ┆ 7         ┆          │\n",
       "│            ┆ m          ┆            ┆ Alley\n",
       "      ┆           ┆           ┆           ┆          │\n",
       "│            ┆            ┆            ┆ West       ┆           ┆           ┆           ┆          │\n",
       "│            ┆            ┆            ┆ Scottm…    ┆           ┆           ┆           ┆          │\n",
       "└────────────┴────────────┴────────────┴────────────┴───────────┴───────────┴───────────┴──────────┘"
      ]
     },
     "execution_count": 96,
     "metadata": {},
     "output_type": "execute_result"
    }
   ],
   "source": [
    "sample_csv_df.head()"
   ]
  },
  {
   "cell_type": "code",
   "execution_count": 97,
   "metadata": {},
   "outputs": [],
   "source": [
    "dict_params = {\n",
    "    \"has_header\": True,\n",
    "    \"skip_rows\": 1\n",
    "}\n",
    "\n",
    "sample_excel_df = pl.read_excel(\"./data/2/sample_data_excel.xlsx\", read_options=dict_params)"
   ]
  },
  {
   "cell_type": "code",
   "execution_count": 98,
   "metadata": {},
   "outputs": [
    {
     "data": {
      "text/html": [
       "<div><style>\n",
       ".dataframe > thead > tr,\n",
       ".dataframe > tbody > tr {\n",
       "  text-align: right;\n",
       "  white-space: pre-wrap;\n",
       "}\n",
       "</style>\n",
       "<small>shape: (5, 8)</small><table border=\"1\" class=\"dataframe\"><thead><tr><th>Name</th><th>Email</th><th>Phone</th><th>Address</th><th>City</th><th>Country</th><th>Date of Birth</th><th>Salary</th></tr><tr><td>str</td><td>str</td><td>str</td><td>str</td><td>str</td><td>str</td><td>str</td><td>i64</td></tr></thead><tbody><tr><td>&quot;Lisa West&quot;</td><td>&quot;andrew23@examp…</td><td>&quot;(465)852-8470&quot;</td><td>&quot;Unit 5183 Box …</td><td>&quot;Perezfort&quot;</td><td>&quot;Honduras&quot;</td><td>&quot;2001-08-05&quot;</td><td>83302</td></tr><tr><td>&quot;Jason Cole&quot;</td><td>&quot;kenneth05@exam…</td><td>&quot;7783540568&quot;</td><td>&quot;73784 Kenneth …</td><td>&quot;Port Andrea&quot;</td><td>&quot;Bolivia&quot;</td><td>&quot;2012-12-04&quot;</td><td>31035</td></tr><tr><td>&quot;Juan Crosby&quot;</td><td>&quot;zbarnes@exampl…</td><td>&quot;(676)328-6244x…</td><td>&quot;0580 Mary Row\n",
       "…</td><td>&quot;Johnborough&quot;</td><td>&quot;South Africa&quot;</td><td>&quot;1921-02-02&quot;</td><td>60226</td></tr><tr><td>&quot;April Ball&quot;</td><td>&quot;michaelmckinne…</td><td>&quot;+1-633-685-490…</td><td>&quot;6215 Hensley P…</td><td>&quot;New Eric&quot;</td><td>&quot;Greece&quot;</td><td>&quot;2023-05-08&quot;</td><td>52502</td></tr><tr><td>&quot;Donald Jackson…</td><td>&quot;peterdean@exam…</td><td>&quot;779-437-7643&quot;</td><td>&quot;156 Macdonald …</td><td>&quot;Alyssaborough&quot;</td><td>&quot;Namibia&quot;</td><td>&quot;2019-03-07&quot;</td><td>38687</td></tr></tbody></table></div>"
      ],
      "text/plain": [
       "shape: (5, 8)\n",
       "┌────────────┬────────────┬────────────┬────────────┬────────────┬────────────┬───────────┬────────┐\n",
       "│ Name       ┆ Email      ┆ Phone      ┆ Address    ┆ City       ┆ Country    ┆ Date of   ┆ Salary │\n",
       "│ ---        ┆ ---        ┆ ---        ┆ ---        ┆ ---        ┆ ---        ┆ Birth     ┆ ---    │\n",
       "│ str        ┆ str        ┆ str        ┆ str        ┆ str        ┆ str        ┆ ---       ┆ i64    │\n",
       "│            ┆            ┆            ┆            ┆            ┆            ┆ str       ┆        │\n",
       "╞════════════╪════════════╪════════════╪════════════╪════════════╪════════════╪═══════════╪════════╡\n",
       "│ Lisa West  ┆ andrew23@e ┆ (465)852-8 ┆ Unit 5183  ┆ Perezfort  ┆ Honduras   ┆ 2001-08-0 ┆ 83302  │\n",
       "│            ┆ xample.com ┆ 470        ┆ Box 8914   ┆            ┆            ┆ 5         ┆        │\n",
       "│            ┆            ┆            ┆ DPO AP     ┆            ┆            ┆           ┆        │\n",
       "│            ┆            ┆            ┆ 26775      ┆            ┆            ┆           ┆        │\n",
       "│ Jason Cole ┆ kenneth05@ ┆ 7783540568 ┆ 73784      ┆ Port       ┆ Bolivia    ┆ 2012-12-0 ┆ 31035  │\n",
       "│            ┆ example.ne ┆            ┆ Kenneth    ┆ Andrea     ┆            ┆ 4         ┆        │\n",
       "│            ┆ t          ┆            ┆ Stream     ┆            ┆            ┆           ┆        │\n",
       "│            ┆            ┆            ┆ Apt. 200   ┆            ┆            ┆           ┆        │\n",
       "│            ┆            ┆            ┆ Fi…        ┆            ┆            ┆           ┆        │\n",
       "│ Juan       ┆ zbarnes@ex ┆ (676)328-6 ┆ 0580 Mary  ┆ Johnboroug ┆ South      ┆ 1921-02-0 ┆ 60226  │\n",
       "│ Crosby     ┆ ample.org  ┆ 244x05295  ┆ Row        ┆ h          ┆ Africa     ┆ 2         ┆        │\n",
       "│            ┆            ┆            ┆ Lake Vanes ┆            ┆            ┆           ┆        │\n",
       "│            ┆            ┆            ┆ sabury, …  ┆            ┆            ┆           ┆        │\n",
       "│ April Ball ┆ michaelmck ┆ +1-633-685 ┆ 6215       ┆ New Eric   ┆ Greece     ┆ 2023-05-0 ┆ 52502  │\n",
       "│            ┆ inney@exam ┆ -4901x2113 ┆ Hensley    ┆            ┆            ┆ 8         ┆        │\n",
       "│            ┆ ple.com    ┆            ┆ Pass Apt.  ┆            ┆            ┆           ┆        │\n",
       "│            ┆            ┆            ┆ 136        ┆            ┆            ┆           ┆        │\n",
       "│            ┆            ┆            ┆ South…     ┆            ┆            ┆           ┆        │\n",
       "│ Donald     ┆ peterdean@ ┆ 779-437-76 ┆ 156        ┆ Alyssaboro ┆ Namibia    ┆ 2019-03-0 ┆ 38687  │\n",
       "│ Jackson    ┆ example.co ┆ 43         ┆ Macdonald  ┆ ugh        ┆            ┆ 7         ┆        │\n",
       "│            ┆ m          ┆            ┆ Alley      ┆            ┆            ┆           ┆        │\n",
       "│            ┆            ┆            ┆ West       ┆            ┆            ┆           ┆        │\n",
       "│            ┆            ┆            ┆ Scottmo…   ┆            ┆            ┆           ┆        │\n",
       "└────────────┴────────────┴────────────┴────────────┴────────────┴────────────┴───────────┴────────┘"
      ]
     },
     "execution_count": 98,
     "metadata": {},
     "output_type": "execute_result"
    }
   ],
   "source": [
    "sample_excel_df.head()"
   ]
  },
  {
   "attachments": {},
   "cell_type": "markdown",
   "metadata": {},
   "source": [
    "## Using Excel Column Names to Create a New Header Row for the Previous CSV DataFrame"
   ]
  },
  {
   "cell_type": "code",
   "execution_count": 99,
   "metadata": {},
   "outputs": [],
   "source": [
    "col_names = sample_excel_df.columns"
   ]
  },
  {
   "cell_type": "code",
   "execution_count": 100,
   "metadata": {},
   "outputs": [],
   "source": [
    "sample_csv_df = sample_csv_df.rename({old: new for old, new in zip(sample_csv_df.columns, col_names)})"
   ]
  },
  {
   "cell_type": "code",
   "execution_count": 101,
   "metadata": {},
   "outputs": [
    {
     "data": {
      "text/html": [
       "<div><style>\n",
       ".dataframe > thead > tr,\n",
       ".dataframe > tbody > tr {\n",
       "  text-align: right;\n",
       "  white-space: pre-wrap;\n",
       "}\n",
       "</style>\n",
       "<small>shape: (200, 8)</small><table border=\"1\" class=\"dataframe\"><thead><tr><th>Name</th><th>Email</th><th>Phone</th><th>Address</th><th>City</th><th>Country</th><th>Date of Birth</th><th>Salary</th></tr><tr><td>str</td><td>str</td><td>str</td><td>str</td><td>str</td><td>str</td><td>str</td><td>i64</td></tr></thead><tbody><tr><td>&quot;Lisa West&quot;</td><td>&quot;andrew23@examp…</td><td>&quot;(465)852-8470&quot;</td><td>&quot;Unit 5183 Box …</td><td>&quot;Perezfort&quot;</td><td>&quot;Honduras&quot;</td><td>&quot;2001-08-05&quot;</td><td>83302</td></tr><tr><td>&quot;Jason Cole&quot;</td><td>&quot;kenneth05@exam…</td><td>&quot;7783540568&quot;</td><td>&quot;73784 Kenneth …</td><td>&quot;Port Andrea&quot;</td><td>&quot;Bolivia&quot;</td><td>&quot;2012-12-04&quot;</td><td>31035</td></tr><tr><td>&quot;Juan Crosby&quot;</td><td>&quot;zbarnes@exampl…</td><td>&quot;(676)328-6244x…</td><td>&quot;0580 Mary Row\r…</td><td>&quot;Johnborough&quot;</td><td>&quot;South Africa&quot;</td><td>&quot;1921-02-02&quot;</td><td>60226</td></tr><tr><td>&quot;April Ball&quot;</td><td>&quot;michaelmckinne…</td><td>&quot;+1-633-685-490…</td><td>&quot;6215 Hensley P…</td><td>&quot;New Eric&quot;</td><td>&quot;Greece&quot;</td><td>&quot;2023-05-08&quot;</td><td>52502</td></tr><tr><td>&quot;Donald Jackson…</td><td>&quot;peterdean@exam…</td><td>&quot;779-437-7643&quot;</td><td>&quot;156 Macdonald …</td><td>&quot;Alyssaborough&quot;</td><td>&quot;Namibia&quot;</td><td>&quot;2019-03-07&quot;</td><td>38687</td></tr><tr><td>&hellip;</td><td>&hellip;</td><td>&hellip;</td><td>&hellip;</td><td>&hellip;</td><td>&hellip;</td><td>&hellip;</td><td>&hellip;</td></tr><tr><td>&quot;Willie Shelton…</td><td>&quot;jamesdavis@exa…</td><td>&quot;277-426-9077x8…</td><td>&quot;2277 Kathryn C…</td><td>&quot;East Michael&quot;</td><td>&quot;Mongolia&quot;</td><td>&quot;2017-05-20&quot;</td><td>59788</td></tr><tr><td>&quot;Deborah Nichol…</td><td>&quot;michelle15@exa…</td><td>&quot;954-765-9968x1…</td><td>&quot;3179 Young Bro…</td><td>&quot;Port Linda&quot;</td><td>&quot;Senegal&quot;</td><td>&quot;1963-07-25&quot;</td><td>61230</td></tr><tr><td>&quot;Vanessa Wu&quot;</td><td>&quot;reginaldowens@…</td><td>&quot;+1-682-798-156…</td><td>&quot;1820 Denise Fo…</td><td>&quot;Cassandraview&quot;</td><td>&quot;Israel&quot;</td><td>&quot;1929-01-18&quot;</td><td>70482</td></tr><tr><td>&quot;Robyn Allen&quot;</td><td>&quot;chad33@example…</td><td>&quot;212-239-3934x5…</td><td>&quot;1162 Kathryn E…</td><td>&quot;Bruceberg&quot;</td><td>&quot;Iran&quot;</td><td>&quot;1941-05-17&quot;</td><td>73249</td></tr><tr><td>&quot;Scott Stewart&quot;</td><td>&quot;valerie39@exam…</td><td>&quot;956.897.0540&quot;</td><td>&quot;228 Adrian Pin…</td><td>&quot;Alexandraside&quot;</td><td>&quot;New Zealand&quot;</td><td>&quot;2019-09-30&quot;</td><td>81174</td></tr></tbody></table></div>"
      ],
      "text/plain": [
       "shape: (200, 8)\n",
       "┌────────────┬────────────┬────────────┬────────────┬────────────┬────────────┬───────────┬────────┐\n",
       "│ Name       ┆ Email      ┆ Phone      ┆ Address    ┆ City       ┆ Country    ┆ Date of   ┆ Salary │\n",
       "│ ---        ┆ ---        ┆ ---        ┆ ---        ┆ ---        ┆ ---        ┆ Birth     ┆ ---    │\n",
       "│ str        ┆ str        ┆ str        ┆ str        ┆ str        ┆ str        ┆ ---       ┆ i64    │\n",
       "│            ┆            ┆            ┆            ┆            ┆            ┆ str       ┆        │\n",
       "╞════════════╪════════════╪════════════╪════════════╪════════════╪════════════╪═══════════╪════════╡\n",
       "│ Lisa West  ┆ andrew23@e ┆ (465)852-8 ┆ Unit 5183  ┆ Perezfort  ┆ Honduras   ┆ 2001-08-0 ┆ 83302  │\n",
       "│            ┆ xample.com ┆ 470        ┆ Box 8914\n",
       "   ┆            ┆            ┆ 5         ┆        │\n",
       "│            ┆            ┆            ┆ DPO AP     ┆            ┆            ┆           ┆        │\n",
       "│            ┆            ┆            ┆ 26775      ┆            ┆            ┆           ┆        │\n",
       "│ Jason Cole ┆ kenneth05@ ┆ 7783540568 ┆ 73784      ┆ Port       ┆ Bolivia    ┆ 2012-12-0 ┆ 31035  │\n",
       "│            ┆ example.ne ┆            ┆ Kenneth    ┆ Andrea     ┆            ┆ 4         ┆        │\n",
       "│            ┆ t          ┆            ┆ Stream     ┆            ┆            ┆           ┆        │\n",
       "│            ┆            ┆            ┆ Apt. 200\n",
       "   ┆            ┆            ┆           ┆        │\n",
       "│            ┆            ┆            ┆ F…         ┆            ┆            ┆           ┆        │\n",
       "│ Juan       ┆ zbarnes@ex ┆ (676)328-6 ┆ 0580 Mary  ┆ Johnboroug ┆ South      ┆ 1921-02-0 ┆ 60226  │\n",
       "│ Crosby     ┆ ample.org  ┆ 244x05295  ┆ Row\n",
       "        ┆ h          ┆ Africa     ┆ 2         ┆        │\n",
       "│            ┆            ┆            ┆ Lake Vanes ┆            ┆            ┆           ┆        │\n",
       "│            ┆            ┆            ┆ sabury,…   ┆            ┆            ┆           ┆        │\n",
       "│ April Ball ┆ michaelmck ┆ +1-633-685 ┆ 6215       ┆ New Eric   ┆ Greece     ┆ 2023-05-0 ┆ 52502  │\n",
       "│            ┆ inney@exam ┆ -4901x2113 ┆ Hensley    ┆            ┆            ┆ 8         ┆        │\n",
       "│            ┆ ple.com    ┆            ┆ Pass Apt.  ┆            ┆            ┆           ┆        │\n",
       "│            ┆            ┆            ┆ 136\n",
       "        ┆            ┆            ┆           ┆        │\n",
       "│            ┆            ┆            ┆ Sout…      ┆            ┆            ┆           ┆        │\n",
       "│ Donald     ┆ peterdean@ ┆ 779-437-76 ┆ 156        ┆ Alyssaboro ┆ Namibia    ┆ 2019-03-0 ┆ 38687  │\n",
       "│ Jackson    ┆ example.co ┆ 43         ┆ Macdonald  ┆ ugh        ┆            ┆ 7         ┆        │\n",
       "│            ┆ m          ┆            ┆ Alley\n",
       "      ┆            ┆            ┆           ┆        │\n",
       "│            ┆            ┆            ┆ West       ┆            ┆            ┆           ┆        │\n",
       "│            ┆            ┆            ┆ Scottm…    ┆            ┆            ┆           ┆        │\n",
       "│ …          ┆ …          ┆ …          ┆ …          ┆ …          ┆ …          ┆ …         ┆ …      │\n",
       "│ Willie     ┆ jamesdavis ┆ 277-426-90 ┆ 2277       ┆ East       ┆ Mongolia   ┆ 2017-05-2 ┆ 59788  │\n",
       "│ Shelton    ┆ @example.n ┆ 77x821     ┆ Kathryn    ┆ Michael    ┆            ┆ 0         ┆        │\n",
       "│            ┆ et         ┆            ┆ Cliffs\n",
       "     ┆            ┆            ┆           ┆        │\n",
       "│            ┆            ┆            ┆ Danielshir ┆            ┆            ┆           ┆        │\n",
       "│            ┆            ┆            ┆ e…         ┆            ┆            ┆           ┆        │\n",
       "│ Deborah    ┆ michelle15 ┆ 954-765-99 ┆ 3179 Young ┆ Port Linda ┆ Senegal    ┆ 1963-07-2 ┆ 61230  │\n",
       "│ Nicholson  ┆ @example.n ┆ 68x1900    ┆ Brooks     ┆            ┆            ┆ 5         ┆        │\n",
       "│            ┆ et         ┆            ┆ Apt. 868\n",
       "   ┆            ┆            ┆           ┆        │\n",
       "│            ┆            ┆            ┆ Scot…      ┆            ┆            ┆           ┆        │\n",
       "│ Vanessa Wu ┆ reginaldow ┆ +1-682-798 ┆ 1820       ┆ Cassandrav ┆ Israel     ┆ 1929-01-1 ┆ 70482  │\n",
       "│            ┆ ens@exampl ┆ -1566x9050 ┆ Denise     ┆ iew        ┆            ┆ 8         ┆        │\n",
       "│            ┆ e.com      ┆            ┆ Forks\n",
       "      ┆            ┆            ┆           ┆        │\n",
       "│            ┆            ┆            ┆ East       ┆            ┆            ┆           ┆        │\n",
       "│            ┆            ┆            ┆ Katieber…  ┆            ┆            ┆           ┆        │\n",
       "│ Robyn      ┆ chad33@exa ┆ 212-239-39 ┆ 1162       ┆ Bruceberg  ┆ Iran       ┆ 1941-05-1 ┆ 73249  │\n",
       "│ Allen      ┆ mple.org   ┆ 34x599     ┆ Kathryn    ┆            ┆            ┆ 7         ┆        │\n",
       "│            ┆            ┆            ┆ Extensions\n",
       " ┆            ┆            ┆           ┆        │\n",
       "│            ┆            ┆            ┆ East La…   ┆            ┆            ┆           ┆        │\n",
       "│ Scott      ┆ valerie39@ ┆ 956.897.05 ┆ 228 Adrian ┆ Alexandras ┆ New        ┆ 2019-09-3 ┆ 81174  │\n",
       "│ Stewart    ┆ example.co ┆ 40         ┆ Pine\n",
       "       ┆ ide        ┆ Zealand    ┆ 0         ┆        │\n",
       "│            ┆ m          ┆            ┆ North      ┆            ┆            ┆           ┆        │\n",
       "│            ┆            ┆            ┆ Sean, IL … ┆            ┆            ┆           ┆        │\n",
       "└────────────┴────────────┴────────────┴────────────┴────────────┴────────────┴───────────┴────────┘"
      ]
     },
     "execution_count": 101,
     "metadata": {},
     "output_type": "execute_result"
    }
   ],
   "source": [
    "sample_csv_df"
   ]
  },
  {
   "attachments": {},
   "cell_type": "markdown",
   "metadata": {},
   "source": [
    "## Extracting Excel Files for Customers / Employees / Orders"
   ]
  },
  {
   "attachments": {},
   "cell_type": "markdown",
   "metadata": {},
   "source": [
    "### Exploring Customer Data"
   ]
  },
  {
   "cell_type": "code",
   "execution_count": 102,
   "metadata": {},
   "outputs": [],
   "source": [
    "customers_df = pl.read_excel(\"./data/2/H+ Sport Customers.xlsx\")"
   ]
  },
  {
   "cell_type": "code",
   "execution_count": 103,
   "metadata": {},
   "outputs": [
    {
     "data": {
      "text/html": [
       "<div><style>\n",
       ".dataframe > thead > tr,\n",
       ".dataframe > tbody > tr {\n",
       "  text-align: right;\n",
       "  white-space: pre-wrap;\n",
       "}\n",
       "</style>\n",
       "<small>shape: (5, 9)</small><table border=\"1\" class=\"dataframe\"><thead><tr><th>CustomerID</th><th>FirstName</th><th>LastName</th><th>Email</th><th>Phone</th><th>Address</th><th>City</th><th>State</th><th>Zipcode</th></tr><tr><td>i64</td><td>str</td><td>str</td><td>str</td><td>str</td><td>str</td><td>str</td><td>str</td><td>i64</td></tr></thead><tbody><tr><td>100</td><td>&quot;Carol&quot;</td><td>&quot;Shaw&quot;</td><td>&quot;cshaw0@mlb.com…</td><td>&quot;(206)804-8771&quot;</td><td>&quot;8157 Longview …</td><td>&quot;Seattle&quot;</td><td>&quot;WA&quot;</td><td>98121</td></tr><tr><td>101</td><td>&quot;Elizabeth&quot;</td><td>&quot;Carr&quot;</td><td>&quot;ecarr1@oracle.…</td><td>&quot;(512)187-2507&quot;</td><td>&quot;3934 Petterle …</td><td>&quot;Austin&quot;</td><td>&quot;TX&quot;</td><td>78732</td></tr><tr><td>102</td><td>&quot;Ernest&quot;</td><td>&quot;Ramos&quot;</td><td>&quot;eramos2@plala.…</td><td>&quot;(816)540-4257&quot;</td><td>&quot;8699 Clarendon…</td><td>&quot;Kansas City&quot;</td><td>&quot;MO&quot;</td><td>64199</td></tr><tr><td>103</td><td>&quot;Jane&quot;</td><td>&quot;Carter&quot;</td><td>&quot;jcarter3@harva…</td><td>&quot;(214)839-0542&quot;</td><td>&quot;2830 Novick La…</td><td>&quot;Irving&quot;</td><td>&quot;TX&quot;</td><td>75037</td></tr><tr><td>104</td><td>&quot;Martha&quot;</td><td>&quot;Cooper&quot;</td><td>&quot;mcooper4@go.co…</td><td>&quot;(727)235-5696&quot;</td><td>&quot;4537 Hoard Lan…</td><td>&quot;Tampa&quot;</td><td>&quot;FL&quot;</td><td>33625</td></tr></tbody></table></div>"
      ],
      "text/plain": [
       "shape: (5, 9)\n",
       "┌────────────┬───────────┬──────────┬───────────────┬───┬──────────────┬─────────┬───────┬─────────┐\n",
       "│ CustomerID ┆ FirstName ┆ LastName ┆ Email         ┆ … ┆ Address      ┆ City    ┆ State ┆ Zipcode │\n",
       "│ ---        ┆ ---       ┆ ---      ┆ ---           ┆   ┆ ---          ┆ ---     ┆ ---   ┆ ---     │\n",
       "│ i64        ┆ str       ┆ str      ┆ str           ┆   ┆ str          ┆ str     ┆ str   ┆ i64     │\n",
       "╞════════════╪═══════════╪══════════╪═══════════════╪═══╪══════════════╪═════════╪═══════╪═════════╡\n",
       "│ 100        ┆ Carol     ┆ Shaw     ┆ cshaw0@mlb.co ┆ … ┆ 8157         ┆ Seattle ┆ WA    ┆ 98121   │\n",
       "│            ┆           ┆          ┆ m             ┆   ┆ Longview     ┆         ┆       ┆         │\n",
       "│            ┆           ┆          ┆               ┆   ┆ Court        ┆         ┆       ┆         │\n",
       "│ 101        ┆ Elizabeth ┆ Carr     ┆ ecarr1@oracle ┆ … ┆ 3934         ┆ Austin  ┆ TX    ┆ 78732   │\n",
       "│            ┆           ┆          ┆ .com          ┆   ┆ Petterle     ┆         ┆       ┆         │\n",
       "│            ┆           ┆          ┆               ┆   ┆ Trail        ┆         ┆       ┆         │\n",
       "│ 102        ┆ Ernest    ┆ Ramos    ┆ eramos2@plala ┆ … ┆ 8699         ┆ Kansas  ┆ MO    ┆ 64199   │\n",
       "│            ┆           ┆          ┆ .or.jp        ┆   ┆ Clarendon    ┆ City    ┆       ┆         │\n",
       "│            ┆           ┆          ┆               ┆   ┆ Terrace      ┆         ┆       ┆         │\n",
       "│ 103        ┆ Jane      ┆ Carter   ┆ jcarter3@harv ┆ … ┆ 2830 Novick  ┆ Irving  ┆ TX    ┆ 75037   │\n",
       "│            ┆           ┆          ┆ ard.edu       ┆   ┆ Lane         ┆         ┆       ┆         │\n",
       "│ 104        ┆ Martha    ┆ Cooper   ┆ mcooper4@go.c ┆ … ┆ 4537 Hoard   ┆ Tampa   ┆ FL    ┆ 33625   │\n",
       "│            ┆           ┆          ┆ om            ┆   ┆ Lane         ┆         ┆       ┆         │\n",
       "└────────────┴───────────┴──────────┴───────────────┴───┴──────────────┴─────────┴───────┴─────────┘"
      ]
     },
     "execution_count": 103,
     "metadata": {},
     "output_type": "execute_result"
    }
   ],
   "source": [
    "customers_df.head()"
   ]
  },
  {
   "cell_type": "code",
   "execution_count": 104,
   "metadata": {},
   "outputs": [
    {
     "data": {
      "text/html": [
       "<div><style>\n",
       ".dataframe > thead > tr,\n",
       ".dataframe > tbody > tr {\n",
       "  text-align: right;\n",
       "  white-space: pre-wrap;\n",
       "}\n",
       "</style>\n",
       "<small>shape: (5, 9)</small><table border=\"1\" class=\"dataframe\"><thead><tr><th>CustomerID</th><th>FirstName</th><th>LastName</th><th>Email</th><th>Phone</th><th>Address</th><th>City</th><th>State</th><th>Zipcode</th></tr><tr><td>i64</td><td>str</td><td>str</td><td>str</td><td>str</td><td>str</td><td>str</td><td>str</td><td>i64</td></tr></thead><tbody><tr><td>1124</td><td>&quot;Russell&quot;</td><td>&quot;Lawson&quot;</td><td>&quot;rlawsonnm@ebay…</td><td>&quot;(979)278-7081&quot;</td><td>&quot;1862 Hoffman T…</td><td>&quot;College Statio…</td><td>&quot;TX&quot;</td><td>77844</td></tr><tr><td>1125</td><td>&quot;Richard&quot;</td><td>&quot;George&quot;</td><td>&quot;rgeorgenn@usda…</td><td>&quot;(614)750-2828&quot;</td><td>&quot;4 Doe Crossing…</td><td>&quot;Columbus&quot;</td><td>&quot;OH&quot;</td><td>43226</td></tr><tr><td>1126</td><td>&quot;Cheryl&quot;</td><td>&quot;Moore&quot;</td><td>&quot;cmooreno@netwo…</td><td>&quot;(253)648-0305&quot;</td><td>&quot;2849 Badeau Tr…</td><td>&quot;Tacoma&quot;</td><td>&quot;WA&quot;</td><td>98411</td></tr><tr><td>1127</td><td>&quot;Sarah&quot;</td><td>&quot;Sims&quot;</td><td>&quot;ssimsnp@issuu.…</td><td>&quot;(619)409-5898&quot;</td><td>&quot;2386 Springs P…</td><td>&quot;San Diego&quot;</td><td>&quot;CA&quot;</td><td>92191</td></tr><tr><td>1128</td><td>&quot;Lori&quot;</td><td>&quot;Little&quot;</td><td>&quot;llittlenq@alib…</td><td>&quot;(702)579-9171&quot;</td><td>&quot;46474 Cambridg…</td><td>&quot;Las Vegas&quot;</td><td>&quot;NV&quot;</td><td>89105</td></tr></tbody></table></div>"
      ],
      "text/plain": [
       "shape: (5, 9)\n",
       "┌────────────┬───────────┬──────────┬─────────────┬───┬─────────────┬────────────┬───────┬─────────┐\n",
       "│ CustomerID ┆ FirstName ┆ LastName ┆ Email       ┆ … ┆ Address     ┆ City       ┆ State ┆ Zipcode │\n",
       "│ ---        ┆ ---       ┆ ---      ┆ ---         ┆   ┆ ---         ┆ ---        ┆ ---   ┆ ---     │\n",
       "│ i64        ┆ str       ┆ str      ┆ str         ┆   ┆ str         ┆ str        ┆ str   ┆ i64     │\n",
       "╞════════════╪═══════════╪══════════╪═════════════╪═══╪═════════════╪════════════╪═══════╪═════════╡\n",
       "│ 1124       ┆ Russell   ┆ Lawson   ┆ rlawsonnm@e ┆ … ┆ 1862        ┆ College    ┆ TX    ┆ 77844   │\n",
       "│            ┆           ┆          ┆ bay.com     ┆   ┆ Hoffman     ┆ Station    ┆       ┆         │\n",
       "│            ┆           ┆          ┆             ┆   ┆ Terrace     ┆            ┆       ┆         │\n",
       "│ 1125       ┆ Richard   ┆ George   ┆ rgeorgenn@u ┆ … ┆ 4 Doe       ┆ Columbus   ┆ OH    ┆ 43226   │\n",
       "│            ┆           ┆          ┆ sda.gov     ┆   ┆ Crossing    ┆            ┆       ┆         │\n",
       "│            ┆           ┆          ┆             ┆   ┆ Parkway     ┆            ┆       ┆         │\n",
       "│ 1126       ┆ Cheryl    ┆ Moore    ┆ cmooreno@ne ┆ … ┆ 2849 Badeau ┆ Tacoma     ┆ WA    ┆ 98411   │\n",
       "│            ┆           ┆          ┆ tworksoluti ┆   ┆ Trail       ┆            ┆       ┆         │\n",
       "│            ┆           ┆          ┆ ons.com     ┆   ┆             ┆            ┆       ┆         │\n",
       "│ 1127       ┆ Sarah     ┆ Sims     ┆ ssimsnp@iss ┆ … ┆ 2386        ┆ San Diego  ┆ CA    ┆ 92191   │\n",
       "│            ┆           ┆          ┆ uu.com      ┆   ┆ Springs     ┆            ┆       ┆         │\n",
       "│            ┆           ┆          ┆             ┆   ┆ Park        ┆            ┆       ┆         │\n",
       "│ 1128       ┆ Lori      ┆ Little   ┆ llittlenq@a ┆ … ┆ 46474       ┆ Las Vegas  ┆ NV    ┆ 89105   │\n",
       "│            ┆           ┆          ┆ libaba.com  ┆   ┆ Cambridge   ┆            ┆       ┆         │\n",
       "│            ┆           ┆          ┆             ┆   ┆ Lane        ┆            ┆       ┆         │\n",
       "└────────────┴───────────┴──────────┴─────────────┴───┴─────────────┴────────────┴───────┴─────────┘"
      ]
     },
     "execution_count": 104,
     "metadata": {},
     "output_type": "execute_result"
    }
   ],
   "source": [
    "customers_df.tail()"
   ]
  },
  {
   "cell_type": "code",
   "execution_count": 105,
   "metadata": {},
   "outputs": [
    {
     "data": {
      "text/plain": [
       "(1029, 9)"
      ]
     },
     "execution_count": 105,
     "metadata": {},
     "output_type": "execute_result"
    }
   ],
   "source": [
    "customers_df.shape"
   ]
  },
  {
   "cell_type": "code",
   "execution_count": 106,
   "metadata": {},
   "outputs": [
    {
     "data": {
      "text/plain": [
       "OrderedDict([('CustomerID', Int64),\n",
       "             ('FirstName', String),\n",
       "             ('LastName', String),\n",
       "             ('Email', String),\n",
       "             ('Phone', String),\n",
       "             ('Address', String),\n",
       "             ('City', String),\n",
       "             ('State', String),\n",
       "             ('Zipcode', Int64)])"
      ]
     },
     "execution_count": 106,
     "metadata": {},
     "output_type": "execute_result"
    }
   ],
   "source": [
    "customers_df.schema"
   ]
  },
  {
   "cell_type": "code",
   "execution_count": 107,
   "metadata": {},
   "outputs": [
    {
     "data": {
      "text/html": [
       "<div><style>\n",
       ".dataframe > thead > tr,\n",
       ".dataframe > tbody > tr {\n",
       "  text-align: right;\n",
       "  white-space: pre-wrap;\n",
       "}\n",
       "</style>\n",
       "<small>shape: (1, 9)</small><table border=\"1\" class=\"dataframe\"><thead><tr><th>CustomerID</th><th>FirstName</th><th>LastName</th><th>Email</th><th>Phone</th><th>Address</th><th>City</th><th>State</th><th>Zipcode</th></tr><tr><td>u32</td><td>u32</td><td>u32</td><td>u32</td><td>u32</td><td>u32</td><td>u32</td><td>u32</td><td>u32</td></tr></thead><tbody><tr><td>0</td><td>0</td><td>0</td><td>0</td><td>0</td><td>0</td><td>0</td><td>0</td><td>0</td></tr></tbody></table></div>"
      ],
      "text/plain": [
       "shape: (1, 9)\n",
       "┌────────────┬───────────┬──────────┬───────┬───┬─────────┬──────┬───────┬─────────┐\n",
       "│ CustomerID ┆ FirstName ┆ LastName ┆ Email ┆ … ┆ Address ┆ City ┆ State ┆ Zipcode │\n",
       "│ ---        ┆ ---       ┆ ---      ┆ ---   ┆   ┆ ---     ┆ ---  ┆ ---   ┆ ---     │\n",
       "│ u32        ┆ u32       ┆ u32      ┆ u32   ┆   ┆ u32     ┆ u32  ┆ u32   ┆ u32     │\n",
       "╞════════════╪═══════════╪══════════╪═══════╪═══╪═════════╪══════╪═══════╪═════════╡\n",
       "│ 0          ┆ 0         ┆ 0        ┆ 0     ┆ … ┆ 0       ┆ 0    ┆ 0     ┆ 0       │\n",
       "└────────────┴───────────┴──────────┴───────┴───┴─────────┴──────┴───────┴─────────┘"
      ]
     },
     "execution_count": 107,
     "metadata": {},
     "output_type": "execute_result"
    }
   ],
   "source": [
    "customers_df.null_count()"
   ]
  },
  {
   "attachments": {},
   "cell_type": "markdown",
   "metadata": {},
   "source": [
    "### Duplicate Checking"
   ]
  },
  {
   "cell_type": "code",
   "execution_count": 108,
   "metadata": {},
   "outputs": [],
   "source": [
    "dup_cust_records = customers_df.filter(customers_df.is_duplicated())"
   ]
  },
  {
   "cell_type": "code",
   "execution_count": 109,
   "metadata": {},
   "outputs": [
    {
     "data": {
      "text/plain": [
       "(0, 9)"
      ]
     },
     "execution_count": 109,
     "metadata": {},
     "output_type": "execute_result"
    }
   ],
   "source": [
    "dup_cust_records.shape"
   ]
  },
  {
   "cell_type": "code",
   "execution_count": 110,
   "metadata": {},
   "outputs": [],
   "source": [
    "unique_cust_df = customers_df.unique()"
   ]
  },
  {
   "cell_type": "code",
   "execution_count": 111,
   "metadata": {},
   "outputs": [
    {
     "data": {
      "text/plain": [
       "(1029, 9)"
      ]
     },
     "execution_count": 111,
     "metadata": {},
     "output_type": "execute_result"
    }
   ],
   "source": [
    "unique_cust_df.shape"
   ]
  },
  {
   "cell_type": "code",
   "execution_count": 112,
   "metadata": {},
   "outputs": [
    {
     "name": "stdout",
     "output_type": "stream",
     "text": [
      "shape: (3, 9)\n",
      "┌────────────┬───────────┬──────────┬──────────────┬───┬─────────────┬───────────┬───────┬─────────┐\n",
      "│ CustomerID ┆ FirstName ┆ LastName ┆ Email        ┆ … ┆ Address     ┆ City      ┆ State ┆ Zipcode │\n",
      "│ ---        ┆ ---       ┆ ---      ┆ ---          ┆   ┆ ---         ┆ ---       ┆ ---   ┆ ---     │\n",
      "│ i64        ┆ str       ┆ str      ┆ str          ┆   ┆ str         ┆ str       ┆ str   ┆ i64     │\n",
      "╞════════════╪═══════════╪══════════╪══════════════╪═══╪═════════════╪═══════════╪═══════╪═════════╡\n",
      "│ 941        ┆ Chris     ┆ Moreno   ┆ cmorenond@ma ┆ … ┆ 8740 Oak    ┆ Fairbanks ┆ AK    ┆ 99790   │\n",
      "│            ┆           ┆          ┆ c.com        ┆   ┆ Valley Park ┆           ┆       ┆         │\n",
      "│ 1100       ┆ Chris     ┆ Moreno   ┆ cmorenond@ma ┆ … ┆ 8740 Oak    ┆ Fairbanks ┆ AK    ┆ 99790   │\n",
      "│            ┆           ┆          ┆ c.com        ┆   ┆ Valley Park ┆           ┆       ┆         │\n",
      "│ 1115       ┆ Chris     ┆ Moreno   ┆ cmorenond@ma ┆ … ┆ 8740 Oak    ┆ Fairbanks ┆ AK    ┆ 99790   │\n",
      "│            ┆           ┆          ┆ c.com        ┆   ┆ Valley Park ┆           ┆       ┆         │\n",
      "└────────────┴───────────┴──────────┴──────────────┴───┴─────────────┴───────────┴───────┴─────────┘\n"
     ]
    }
   ],
   "source": [
    "# Assuming df is your Polars DataFrame\n",
    "filtered_cust_df = customers_df.filter(\n",
    "    (pl.col(\"FirstName\") == \"Chris\") &\n",
    "    (pl.col(\"LastName\") == \"Moreno\")\n",
    ")\n",
    "\n",
    "print(filtered_cust_df)\n"
   ]
  },
  {
   "attachments": {},
   "cell_type": "markdown",
   "metadata": {},
   "source": [
    "### Dropping Customer ID and Rebuilding after creating a new Unique DataFrame"
   ]
  },
  {
   "cell_type": "code",
   "execution_count": 113,
   "metadata": {},
   "outputs": [],
   "source": [
    "customers_df = customers_df.drop(\"CustomerID\")"
   ]
  },
  {
   "cell_type": "code",
   "execution_count": 114,
   "metadata": {},
   "outputs": [
    {
     "data": {
      "text/html": [
       "<div><style>\n",
       ".dataframe > thead > tr,\n",
       ".dataframe > tbody > tr {\n",
       "  text-align: right;\n",
       "  white-space: pre-wrap;\n",
       "}\n",
       "</style>\n",
       "<small>shape: (5, 8)</small><table border=\"1\" class=\"dataframe\"><thead><tr><th>FirstName</th><th>LastName</th><th>Email</th><th>Phone</th><th>Address</th><th>City</th><th>State</th><th>Zipcode</th></tr><tr><td>str</td><td>str</td><td>str</td><td>str</td><td>str</td><td>str</td><td>str</td><td>i64</td></tr></thead><tbody><tr><td>&quot;Carol&quot;</td><td>&quot;Shaw&quot;</td><td>&quot;cshaw0@mlb.com…</td><td>&quot;(206)804-8771&quot;</td><td>&quot;8157 Longview …</td><td>&quot;Seattle&quot;</td><td>&quot;WA&quot;</td><td>98121</td></tr><tr><td>&quot;Elizabeth&quot;</td><td>&quot;Carr&quot;</td><td>&quot;ecarr1@oracle.…</td><td>&quot;(512)187-2507&quot;</td><td>&quot;3934 Petterle …</td><td>&quot;Austin&quot;</td><td>&quot;TX&quot;</td><td>78732</td></tr><tr><td>&quot;Ernest&quot;</td><td>&quot;Ramos&quot;</td><td>&quot;eramos2@plala.…</td><td>&quot;(816)540-4257&quot;</td><td>&quot;8699 Clarendon…</td><td>&quot;Kansas City&quot;</td><td>&quot;MO&quot;</td><td>64199</td></tr><tr><td>&quot;Jane&quot;</td><td>&quot;Carter&quot;</td><td>&quot;jcarter3@harva…</td><td>&quot;(214)839-0542&quot;</td><td>&quot;2830 Novick La…</td><td>&quot;Irving&quot;</td><td>&quot;TX&quot;</td><td>75037</td></tr><tr><td>&quot;Martha&quot;</td><td>&quot;Cooper&quot;</td><td>&quot;mcooper4@go.co…</td><td>&quot;(727)235-5696&quot;</td><td>&quot;4537 Hoard Lan…</td><td>&quot;Tampa&quot;</td><td>&quot;FL&quot;</td><td>33625</td></tr></tbody></table></div>"
      ],
      "text/plain": [
       "shape: (5, 8)\n",
       "┌───────────┬──────────┬──────────────┬──────────────┬─────────────┬─────────────┬───────┬─────────┐\n",
       "│ FirstName ┆ LastName ┆ Email        ┆ Phone        ┆ Address     ┆ City        ┆ State ┆ Zipcode │\n",
       "│ ---       ┆ ---      ┆ ---          ┆ ---          ┆ ---         ┆ ---         ┆ ---   ┆ ---     │\n",
       "│ str       ┆ str      ┆ str          ┆ str          ┆ str         ┆ str         ┆ str   ┆ i64     │\n",
       "╞═══════════╪══════════╪══════════════╪══════════════╪═════════════╪═════════════╪═══════╪═════════╡\n",
       "│ Carol     ┆ Shaw     ┆ cshaw0@mlb.c ┆ (206)804-877 ┆ 8157        ┆ Seattle     ┆ WA    ┆ 98121   │\n",
       "│           ┆          ┆ om           ┆ 1            ┆ Longview    ┆             ┆       ┆         │\n",
       "│           ┆          ┆              ┆              ┆ Court       ┆             ┆       ┆         │\n",
       "│ Elizabeth ┆ Carr     ┆ ecarr1@oracl ┆ (512)187-250 ┆ 3934        ┆ Austin      ┆ TX    ┆ 78732   │\n",
       "│           ┆          ┆ e.com        ┆ 7            ┆ Petterle    ┆             ┆       ┆         │\n",
       "│           ┆          ┆              ┆              ┆ Trail       ┆             ┆       ┆         │\n",
       "│ Ernest    ┆ Ramos    ┆ eramos2@plal ┆ (816)540-425 ┆ 8699        ┆ Kansas City ┆ MO    ┆ 64199   │\n",
       "│           ┆          ┆ a.or.jp      ┆ 7            ┆ Clarendon   ┆             ┆       ┆         │\n",
       "│           ┆          ┆              ┆              ┆ Terrace     ┆             ┆       ┆         │\n",
       "│ Jane      ┆ Carter   ┆ jcarter3@har ┆ (214)839-054 ┆ 2830 Novick ┆ Irving      ┆ TX    ┆ 75037   │\n",
       "│           ┆          ┆ vard.edu     ┆ 2            ┆ Lane        ┆             ┆       ┆         │\n",
       "│ Martha    ┆ Cooper   ┆ mcooper4@go. ┆ (727)235-569 ┆ 4537 Hoard  ┆ Tampa       ┆ FL    ┆ 33625   │\n",
       "│           ┆          ┆ com          ┆ 6            ┆ Lane        ┆             ┆       ┆         │\n",
       "└───────────┴──────────┴──────────────┴──────────────┴─────────────┴─────────────┴───────┴─────────┘"
      ]
     },
     "execution_count": 114,
     "metadata": {},
     "output_type": "execute_result"
    }
   ],
   "source": [
    "customers_df.head()"
   ]
  },
  {
   "cell_type": "code",
   "execution_count": 115,
   "metadata": {},
   "outputs": [
    {
     "data": {
      "text/plain": [
       "(1029, 8)"
      ]
     },
     "execution_count": 115,
     "metadata": {},
     "output_type": "execute_result"
    }
   ],
   "source": [
    "customers_df.shape"
   ]
  },
  {
   "cell_type": "code",
   "execution_count": 116,
   "metadata": {},
   "outputs": [],
   "source": [
    "unique_cust_df = customers_df.unique()"
   ]
  },
  {
   "cell_type": "code",
   "execution_count": 117,
   "metadata": {},
   "outputs": [
    {
     "data": {
      "text/plain": [
       "(1000, 8)"
      ]
     },
     "execution_count": 117,
     "metadata": {},
     "output_type": "execute_result"
    }
   ],
   "source": [
    "unique_cust_df.shape"
   ]
  },
  {
   "cell_type": "code",
   "execution_count": 118,
   "metadata": {},
   "outputs": [],
   "source": [
    "# Assuming unique_cust_df is your Polars DataFrame with unique records\n",
    "customer_id_start = 100\n",
    "customer_id_end = customer_id_start + len(unique_cust_df)\n",
    "\n",
    "# Create a CustomerID column\n",
    "customer_id_column = pl.arange(customer_id_start, customer_id_end, 1).alias(\"CustomerID\")\n",
    "\n",
    "# Add the CustomerID column as the first column of the DataFrame\n",
    "# Note: No need for pl.lit() here, just pass the customer_id_column directly\n",
    "unique_cust_df = unique_cust_df.with_columns([customer_id_column])\n",
    "\n",
    "# To ensure CustomerID is the first column, we can reorder the columns\n",
    "columns_order = [\"CustomerID\"] + [col for col in unique_cust_df.columns if col != \"CustomerID\"]\n",
    "unique_cust_df = unique_cust_df.select(columns_order)\n"
   ]
  },
  {
   "cell_type": "code",
   "execution_count": 119,
   "metadata": {},
   "outputs": [
    {
     "data": {
      "text/html": [
       "<div><style>\n",
       ".dataframe > thead > tr,\n",
       ".dataframe > tbody > tr {\n",
       "  text-align: right;\n",
       "  white-space: pre-wrap;\n",
       "}\n",
       "</style>\n",
       "<small>shape: (1_000, 9)</small><table border=\"1\" class=\"dataframe\"><thead><tr><th>CustomerID</th><th>FirstName</th><th>LastName</th><th>Email</th><th>Phone</th><th>Address</th><th>City</th><th>State</th><th>Zipcode</th></tr><tr><td>i64</td><td>str</td><td>str</td><td>str</td><td>str</td><td>str</td><td>str</td><td>str</td><td>i64</td></tr></thead><tbody><tr><td>100</td><td>&quot;Pamela&quot;</td><td>&quot;Welch&quot;</td><td>&quot;pwelcho@wordpr…</td><td>&quot;(303)685-7506&quot;</td><td>&quot;2814 Longview …</td><td>&quot;Englewood&quot;</td><td>&quot;CO&quot;</td><td>80150</td></tr><tr><td>101</td><td>&quot;Rebecca&quot;</td><td>&quot;Sanchez&quot;</td><td>&quot;rsanchez1q@cyb…</td><td>&quot;(916)849-0414&quot;</td><td>&quot;72828 Eliot Co…</td><td>&quot;Sacramento&quot;</td><td>&quot;CA&quot;</td><td>94207</td></tr><tr><td>102</td><td>&quot;Katherine&quot;</td><td>&quot;Butler&quot;</td><td>&quot;kbutler20@medi…</td><td>&quot;(303)479-3187&quot;</td><td>&quot;01383 Buell Av…</td><td>&quot;Englewood&quot;</td><td>&quot;CO&quot;</td><td>80150</td></tr><tr><td>103</td><td>&quot;Michael&quot;</td><td>&quot;Green&quot;</td><td>&quot;mgreen27@googl…</td><td>&quot;(330)828-1467&quot;</td><td>&quot;98311 Westend …</td><td>&quot;Akron&quot;</td><td>&quot;OH&quot;</td><td>44310</td></tr><tr><td>104</td><td>&quot;Barbara&quot;</td><td>&quot;Bell&quot;</td><td>&quot;bbell2l@google…</td><td>&quot;(213)127-0383&quot;</td><td>&quot;76413 Stone Co…</td><td>&quot;Los Angeles&quot;</td><td>&quot;CA&quot;</td><td>90065</td></tr><tr><td>&hellip;</td><td>&hellip;</td><td>&hellip;</td><td>&hellip;</td><td>&hellip;</td><td>&hellip;</td><td>&hellip;</td><td>&hellip;</td><td>&hellip;</td></tr><tr><td>1095</td><td>&quot;Joshua&quot;</td><td>&quot;Clark&quot;</td><td>&quot;jclarkq9@taoba…</td><td>&quot;(850)758-3288&quot;</td><td>&quot;88 Goodland Ce…</td><td>&quot;Pensacola&quot;</td><td>&quot;FL&quot;</td><td>32511</td></tr><tr><td>1096</td><td>&quot;Laura&quot;</td><td>&quot;Bradley&quot;</td><td>&quot;lbradleyqq@yan…</td><td>&quot;(319)656-5018&quot;</td><td>&quot;5465 Towne Pla…</td><td>&quot;Cedar Rapids&quot;</td><td>&quot;IA&quot;</td><td>52410</td></tr><tr><td>1097</td><td>&quot;Teresa&quot;</td><td>&quot;Arnold&quot;</td><td>&quot;tarnoldqt@woot…</td><td>&quot;(251)243-8568&quot;</td><td>&quot;01835 5th Park…</td><td>&quot;Mobile&quot;</td><td>&quot;AL&quot;</td><td>36670</td></tr><tr><td>1098</td><td>&quot;Mark&quot;</td><td>&quot;West&quot;</td><td>&quot;mwestrb@dagond…</td><td>&quot;(205)801-0026&quot;</td><td>&quot;594 Meadow Val…</td><td>&quot;Birmingham&quot;</td><td>&quot;AL&quot;</td><td>35220</td></tr><tr><td>1099</td><td>&quot;Michael&quot;</td><td>&quot;Gonzalez&quot;</td><td>&quot;mgonzalezrq@hu…</td><td>&quot;(540)782-9635&quot;</td><td>&quot;48057 Hagan Pl…</td><td>&quot;Roanoke&quot;</td><td>&quot;VA&quot;</td><td>24009</td></tr></tbody></table></div>"
      ],
      "text/plain": [
       "shape: (1_000, 9)\n",
       "┌────────────┬───────────┬──────────┬─────────────┬───┬─────────────┬────────────┬───────┬─────────┐\n",
       "│ CustomerID ┆ FirstName ┆ LastName ┆ Email       ┆ … ┆ Address     ┆ City       ┆ State ┆ Zipcode │\n",
       "│ ---        ┆ ---       ┆ ---      ┆ ---         ┆   ┆ ---         ┆ ---        ┆ ---   ┆ ---     │\n",
       "│ i64        ┆ str       ┆ str      ┆ str         ┆   ┆ str         ┆ str        ┆ str   ┆ i64     │\n",
       "╞════════════╪═══════════╪══════════╪═════════════╪═══╪═════════════╪════════════╪═══════╪═════════╡\n",
       "│ 100        ┆ Pamela    ┆ Welch    ┆ pwelcho@wor ┆ … ┆ 2814        ┆ Englewood  ┆ CO    ┆ 80150   │\n",
       "│            ┆           ┆          ┆ dpress.com  ┆   ┆ Longview    ┆            ┆       ┆         │\n",
       "│            ┆           ┆          ┆             ┆   ┆ Place       ┆            ┆       ┆         │\n",
       "│ 101        ┆ Rebecca   ┆ Sanchez  ┆ rsanchez1q@ ┆ … ┆ 72828 Eliot ┆ Sacramento ┆ CA    ┆ 94207   │\n",
       "│            ┆           ┆          ┆ cyberchimps ┆   ┆ Court       ┆            ┆       ┆         │\n",
       "│            ┆           ┆          ┆ .com        ┆   ┆             ┆            ┆       ┆         │\n",
       "│ 102        ┆ Katherine ┆ Butler   ┆ kbutler20@m ┆ … ┆ 01383 Buell ┆ Englewood  ┆ CO    ┆ 80150   │\n",
       "│            ┆           ┆          ┆ ediafire.co ┆   ┆ Avenue      ┆            ┆       ┆         │\n",
       "│            ┆           ┆          ┆ m           ┆   ┆             ┆            ┆       ┆         │\n",
       "│ 103        ┆ Michael   ┆ Green    ┆ mgreen27@go ┆ … ┆ 98311       ┆ Akron      ┆ OH    ┆ 44310   │\n",
       "│            ┆           ┆          ┆ ogle.co.jp  ┆   ┆ Westend     ┆            ┆       ┆         │\n",
       "│            ┆           ┆          ┆             ┆   ┆ Place       ┆            ┆       ┆         │\n",
       "│ 104        ┆ Barbara   ┆ Bell     ┆ bbell2l@goo ┆ … ┆ 76413 Stone ┆ Los        ┆ CA    ┆ 90065   │\n",
       "│            ┆           ┆          ┆ gle.pl      ┆   ┆ Corner Lane ┆ Angeles    ┆       ┆         │\n",
       "│ …          ┆ …         ┆ …        ┆ …           ┆ … ┆ …           ┆ …          ┆ …     ┆ …       │\n",
       "│ 1095       ┆ Joshua    ┆ Clark    ┆ jclarkq9@ta ┆ … ┆ 88 Goodland ┆ Pensacola  ┆ FL    ┆ 32511   │\n",
       "│            ┆           ┆          ┆ obao.com    ┆   ┆ Center      ┆            ┆       ┆         │\n",
       "│ 1096       ┆ Laura     ┆ Bradley  ┆ lbradleyqq@ ┆ … ┆ 5465 Towne  ┆ Cedar      ┆ IA    ┆ 52410   │\n",
       "│            ┆           ┆          ┆ yandex.ru   ┆   ┆ Plaza       ┆ Rapids     ┆       ┆         │\n",
       "│ 1097       ┆ Teresa    ┆ Arnold   ┆ tarnoldqt@w ┆ … ┆ 01835 5th   ┆ Mobile     ┆ AL    ┆ 36670   │\n",
       "│            ┆           ┆          ┆ oothemes.co ┆   ┆ Parkway     ┆            ┆       ┆         │\n",
       "│            ┆           ┆          ┆ m           ┆   ┆             ┆            ┆       ┆         │\n",
       "│ 1098       ┆ Mark      ┆ West     ┆ mwestrb@dag ┆ … ┆ 594 Meadow  ┆ Birmingham ┆ AL    ┆ 35220   │\n",
       "│            ┆           ┆          ┆ ondesign.co ┆   ┆ Vale Circle ┆            ┆       ┆         │\n",
       "│            ┆           ┆          ┆ m           ┆   ┆             ┆            ┆       ┆         │\n",
       "│ 1099       ┆ Michael   ┆ Gonzalez ┆ mgonzalezrq ┆ … ┆ 48057 Hagan ┆ Roanoke    ┆ VA    ┆ 24009   │\n",
       "│            ┆           ┆          ┆ @hud.gov    ┆   ┆ Place       ┆            ┆       ┆         │\n",
       "└────────────┴───────────┴──────────┴─────────────┴───┴─────────────┴────────────┴───────┴─────────┘"
      ]
     },
     "execution_count": 119,
     "metadata": {},
     "output_type": "execute_result"
    }
   ],
   "source": [
    "unique_cust_df"
   ]
  },
  {
   "cell_type": "code",
   "execution_count": 120,
   "metadata": {},
   "outputs": [
    {
     "data": {
      "text/plain": [
       "(1000, 9)"
      ]
     },
     "execution_count": 120,
     "metadata": {},
     "output_type": "execute_result"
    }
   ],
   "source": [
    "unique_cust_df.shape"
   ]
  },
  {
   "attachments": {},
   "cell_type": "markdown",
   "metadata": {},
   "source": [
    "### Exploring Employees Data"
   ]
  },
  {
   "cell_type": "code",
   "execution_count": 121,
   "metadata": {},
   "outputs": [],
   "source": [
    "employees_df = pl.read_excel(\"./data/2/H+ Sport Employees.xlsx\", sheet_name=\"Employees\")"
   ]
  },
  {
   "cell_type": "code",
   "execution_count": 122,
   "metadata": {},
   "outputs": [
    {
     "data": {
      "text/html": [
       "<div><style>\n",
       ".dataframe > thead > tr,\n",
       ".dataframe > tbody > tr {\n",
       "  text-align: right;\n",
       "  white-space: pre-wrap;\n",
       "}\n",
       "</style>\n",
       "<small>shape: (5, 13)</small><table border=\"1\" class=\"dataframe\"><thead><tr><th>Employee Name</th><th>Building</th><th>Department</th><th>Status</th><th>Hire Date</th><th>Month</th><th>Years</th><th>Benefits</th><th>Salary</th><th>Job Rating</th><th>New Salary</th><th>Tax Rate</th><th>0.029100</th></tr><tr><td>str</td><td>str</td><td>str</td><td>str</td><td>str</td><td>str</td><td>i64</td><td>str</td><td>i64</td><td>i64</td><td>str</td><td>str</td><td>str</td></tr></thead><tbody><tr><td>&quot;Page, Lisa&quot;</td><td>&quot;West&quot;</td><td>&quot;ADC&quot;</td><td>&quot;Full Time&quot;</td><td>&quot;11-Jan-99&quot;</td><td>&quot;Jan&quot;</td><td>25</td><td>&quot;DMR&quot;</td><td>24550</td><td>1</td><td>null</td><td>null</td><td>null</td></tr><tr><td>&quot;Taylor, Hector…</td><td>&quot;West&quot;</td><td>&quot;ADC&quot;</td><td>&quot;Half-Time&quot;</td><td>&quot;21-Feb-11&quot;</td><td>&quot;Feb&quot;</td><td>12</td><td>&quot;DM&quot;</td><td>26795</td><td>4</td><td>null</td><td>null</td><td>null</td></tr><tr><td>&quot;Dawson, Jonath…</td><td>&quot;West&quot;</td><td>&quot;ADC&quot;</td><td>&quot;Contract&quot;</td><td>&quot;06-Mar-07&quot;</td><td>&quot;Mar&quot;</td><td>16</td><td>null</td><td>42540</td><td>5</td><td>null</td><td>null</td><td>null</td></tr><tr><td>&quot;Duran, Brian&quot;</td><td>&quot;Taft&quot;</td><td>&quot;ADC&quot;</td><td>&quot;Hourly&quot;</td><td>&quot;30-Aug-12&quot;</td><td>&quot;Aug&quot;</td><td>11</td><td>null</td><td>35680</td><td>2</td><td>null</td><td>null</td><td>null</td></tr><tr><td>&quot;Weber, Larry&quot;</td><td>&quot;Watson&quot;</td><td>&quot;ADC&quot;</td><td>&quot;Full Time&quot;</td><td>&quot;31-Dec-07&quot;</td><td>&quot;Dec&quot;</td><td>16</td><td>&quot;M&quot;</td><td>72830</td><td>2</td><td>null</td><td>null</td><td>null</td></tr></tbody></table></div>"
      ],
      "text/plain": [
       "shape: (5, 13)\n",
       "┌─────────────┬──────────┬─────────────┬───────────┬───┬────────┬────────────┬──────────┬──────────┐\n",
       "│ Employee    ┆ Building ┆ Department  ┆ Status    ┆ … ┆ Job    ┆ New Salary ┆ Tax Rate ┆ 0.029100 │\n",
       "│ Name        ┆ ---      ┆ ---         ┆ ---       ┆   ┆ Rating ┆ ---        ┆ ---      ┆ ---      │\n",
       "│ ---         ┆ str      ┆ str         ┆ str       ┆   ┆ ---    ┆ str        ┆ str      ┆ str      │\n",
       "│ str         ┆          ┆             ┆           ┆   ┆ i64    ┆            ┆          ┆          │\n",
       "╞═════════════╪══════════╪═════════════╪═══════════╪═══╪════════╪════════════╪══════════╪══════════╡\n",
       "│ Page, Lisa  ┆ West     ┆ ADC         ┆ Full Time ┆ … ┆ 1      ┆ null       ┆ null     ┆ null     │\n",
       "│ Taylor,     ┆ West     ┆ ADC         ┆ Half-Time ┆ … ┆ 4      ┆ null       ┆ null     ┆ null     │\n",
       "│ Hector      ┆          ┆             ┆           ┆   ┆        ┆            ┆          ┆          │\n",
       "│ Dawson,     ┆ West     ┆ ADC         ┆ Contract  ┆ … ┆ 5      ┆ null       ┆ null     ┆ null     │\n",
       "│ Jonathan    ┆          ┆             ┆           ┆   ┆        ┆            ┆          ┆          │\n",
       "│ Duran,      ┆ Taft     ┆ ADC         ┆ Hourly    ┆ … ┆ 2      ┆ null       ┆ null     ┆ null     │\n",
       "│ Brian       ┆          ┆             ┆           ┆   ┆        ┆            ┆          ┆          │\n",
       "│ Weber,      ┆ Watson   ┆ ADC         ┆ Full Time ┆ … ┆ 2      ┆ null       ┆ null     ┆ null     │\n",
       "│ Larry       ┆          ┆             ┆           ┆   ┆        ┆            ┆          ┆          │\n",
       "└─────────────┴──────────┴─────────────┴───────────┴───┴────────┴────────────┴──────────┴──────────┘"
      ]
     },
     "execution_count": 122,
     "metadata": {},
     "output_type": "execute_result"
    }
   ],
   "source": [
    "employees_df.head()"
   ]
  },
  {
   "cell_type": "code",
   "execution_count": 123,
   "metadata": {},
   "outputs": [
    {
     "data": {
      "text/plain": [
       "(741, 13)"
      ]
     },
     "execution_count": 123,
     "metadata": {},
     "output_type": "execute_result"
    }
   ],
   "source": [
    "employees_df.shape"
   ]
  },
  {
   "cell_type": "code",
   "execution_count": 124,
   "metadata": {},
   "outputs": [],
   "source": [
    "unique_emp_df = employees_df.unique()"
   ]
  },
  {
   "cell_type": "code",
   "execution_count": 125,
   "metadata": {},
   "outputs": [
    {
     "data": {
      "text/plain": [
       "(741, 13)"
      ]
     },
     "execution_count": 125,
     "metadata": {},
     "output_type": "execute_result"
    }
   ],
   "source": [
    "unique_emp_df.shape"
   ]
  },
  {
   "attachments": {},
   "cell_type": "markdown",
   "metadata": {},
   "source": [
    "### Cleaning Null Values in Employees DataFrame"
   ]
  },
  {
   "cell_type": "code",
   "execution_count": 126,
   "metadata": {},
   "outputs": [
    {
     "data": {
      "text/html": [
       "<div><style>\n",
       ".dataframe > thead > tr,\n",
       ".dataframe > tbody > tr {\n",
       "  text-align: right;\n",
       "  white-space: pre-wrap;\n",
       "}\n",
       "</style>\n",
       "<small>shape: (1, 13)</small><table border=\"1\" class=\"dataframe\"><thead><tr><th>Employee Name</th><th>Building</th><th>Department</th><th>Status</th><th>Hire Date</th><th>Month</th><th>Years</th><th>Benefits</th><th>Salary</th><th>Job Rating</th><th>New Salary</th><th>Tax Rate</th><th>0.029100</th></tr><tr><td>u32</td><td>u32</td><td>u32</td><td>u32</td><td>u32</td><td>u32</td><td>u32</td><td>u32</td><td>u32</td><td>u32</td><td>u32</td><td>u32</td><td>u32</td></tr></thead><tbody><tr><td>0</td><td>0</td><td>0</td><td>0</td><td>0</td><td>0</td><td>0</td><td>247</td><td>0</td><td>0</td><td>741</td><td>741</td><td>741</td></tr></tbody></table></div>"
      ],
      "text/plain": [
       "shape: (1, 13)\n",
       "┌──────────┬──────────┬────────────┬────────┬───┬────────────┬────────────┬──────────┬──────────┐\n",
       "│ Employee ┆ Building ┆ Department ┆ Status ┆ … ┆ Job Rating ┆ New Salary ┆ Tax Rate ┆ 0.029100 │\n",
       "│ Name     ┆ ---      ┆ ---        ┆ ---    ┆   ┆ ---        ┆ ---        ┆ ---      ┆ ---      │\n",
       "│ ---      ┆ u32      ┆ u32        ┆ u32    ┆   ┆ u32        ┆ u32        ┆ u32      ┆ u32      │\n",
       "│ u32      ┆          ┆            ┆        ┆   ┆            ┆            ┆          ┆          │\n",
       "╞══════════╪══════════╪════════════╪════════╪═══╪════════════╪════════════╪══════════╪══════════╡\n",
       "│ 0        ┆ 0        ┆ 0          ┆ 0      ┆ … ┆ 0          ┆ 741        ┆ 741      ┆ 741      │\n",
       "└──────────┴──────────┴────────────┴────────┴───┴────────────┴────────────┴──────────┴──────────┘"
      ]
     },
     "execution_count": 126,
     "metadata": {},
     "output_type": "execute_result"
    }
   ],
   "source": [
    "employees_df.null_count()"
   ]
  },
  {
   "cell_type": "code",
   "execution_count": 127,
   "metadata": {},
   "outputs": [],
   "source": [
    "employees_df = employees_df.with_columns([\n",
    "    employees_df[\"Benefits\"].fill_null(\"Unknown\")\n",
    "])"
   ]
  },
  {
   "cell_type": "code",
   "execution_count": 128,
   "metadata": {},
   "outputs": [],
   "source": [
    "drop_col_list = [\"New Salary\", \"Tax Rate\", \"0.029100\"]\n",
    "employees_df = employees_df.drop(drop_col_list)"
   ]
  },
  {
   "cell_type": "code",
   "execution_count": 129,
   "metadata": {},
   "outputs": [
    {
     "data": {
      "text/html": [
       "<div><style>\n",
       ".dataframe > thead > tr,\n",
       ".dataframe > tbody > tr {\n",
       "  text-align: right;\n",
       "  white-space: pre-wrap;\n",
       "}\n",
       "</style>\n",
       "<small>shape: (741, 10)</small><table border=\"1\" class=\"dataframe\"><thead><tr><th>Employee Name</th><th>Building</th><th>Department</th><th>Status</th><th>Hire Date</th><th>Month</th><th>Years</th><th>Benefits</th><th>Salary</th><th>Job Rating</th></tr><tr><td>str</td><td>str</td><td>str</td><td>str</td><td>str</td><td>str</td><td>i64</td><td>str</td><td>i64</td><td>i64</td></tr></thead><tbody><tr><td>&quot;Page, Lisa&quot;</td><td>&quot;West&quot;</td><td>&quot;ADC&quot;</td><td>&quot;Full Time&quot;</td><td>&quot;11-Jan-99&quot;</td><td>&quot;Jan&quot;</td><td>25</td><td>&quot;DMR&quot;</td><td>24550</td><td>1</td></tr><tr><td>&quot;Taylor, Hector…</td><td>&quot;West&quot;</td><td>&quot;ADC&quot;</td><td>&quot;Half-Time&quot;</td><td>&quot;21-Feb-11&quot;</td><td>&quot;Feb&quot;</td><td>12</td><td>&quot;DM&quot;</td><td>26795</td><td>4</td></tr><tr><td>&quot;Dawson, Jonath…</td><td>&quot;West&quot;</td><td>&quot;ADC&quot;</td><td>&quot;Contract&quot;</td><td>&quot;06-Mar-07&quot;</td><td>&quot;Mar&quot;</td><td>16</td><td>&quot;Unknown&quot;</td><td>42540</td><td>5</td></tr><tr><td>&quot;Duran, Brian&quot;</td><td>&quot;Taft&quot;</td><td>&quot;ADC&quot;</td><td>&quot;Hourly&quot;</td><td>&quot;30-Aug-12&quot;</td><td>&quot;Aug&quot;</td><td>11</td><td>&quot;Unknown&quot;</td><td>35680</td><td>2</td></tr><tr><td>&quot;Weber, Larry&quot;</td><td>&quot;Watson&quot;</td><td>&quot;ADC&quot;</td><td>&quot;Full Time&quot;</td><td>&quot;31-Dec-07&quot;</td><td>&quot;Dec&quot;</td><td>16</td><td>&quot;M&quot;</td><td>72830</td><td>2</td></tr><tr><td>&hellip;</td><td>&hellip;</td><td>&hellip;</td><td>&hellip;</td><td>&hellip;</td><td>&hellip;</td><td>&hellip;</td><td>&hellip;</td><td>&hellip;</td><td>&hellip;</td></tr><tr><td>&quot;Olsen, Ewan&quot;</td><td>&quot;North&quot;</td><td>&quot;Research/Devel…</td><td>&quot;Contract&quot;</td><td>&quot;03-Feb-07&quot;</td><td>&quot;Feb&quot;</td><td>16</td><td>&quot;Unknown&quot;</td><td>60760</td><td>2</td></tr><tr><td>&quot;Green, Kim&quot;</td><td>&quot;Watson&quot;</td><td>&quot;Research/Devel…</td><td>&quot;Half-Time&quot;</td><td>&quot;01-Feb-00&quot;</td><td>&quot;Feb&quot;</td><td>23</td><td>&quot;DMR&quot;</td><td>31250</td><td>2</td></tr><tr><td>&quot;Bradshaw, Sher…</td><td>&quot;North&quot;</td><td>&quot;Research/Devel…</td><td>&quot;Contract&quot;</td><td>&quot;10-Jul-08&quot;</td><td>&quot;Jul&quot;</td><td>15</td><td>&quot;Unknown&quot;</td><td>64720</td><td>5</td></tr><tr><td>&quot;Riley, David&quot;</td><td>&quot;Taft&quot;</td><td>&quot;Research/Devel…</td><td>&quot;Full Time&quot;</td><td>&quot;25-Jul-10&quot;</td><td>&quot;Jul&quot;</td><td>13</td><td>&quot;DMR&quot;</td><td>46680</td><td>1</td></tr><tr><td>&quot;Flynn, Melissa…</td><td>&quot;Watson&quot;</td><td>&quot;Research/Devel…</td><td>&quot;Hourly&quot;</td><td>&quot;31-Dec-10&quot;</td><td>&quot;Dec&quot;</td><td>13</td><td>&quot;Unknown&quot;</td><td>19044</td><td>1</td></tr></tbody></table></div>"
      ],
      "text/plain": [
       "shape: (741, 10)\n",
       "┌───────────────┬──────────┬──────────────┬───────────┬───┬───────┬──────────┬────────┬────────────┐\n",
       "│ Employee Name ┆ Building ┆ Department   ┆ Status    ┆ … ┆ Years ┆ Benefits ┆ Salary ┆ Job Rating │\n",
       "│ ---           ┆ ---      ┆ ---          ┆ ---       ┆   ┆ ---   ┆ ---      ┆ ---    ┆ ---        │\n",
       "│ str           ┆ str      ┆ str          ┆ str       ┆   ┆ i64   ┆ str      ┆ i64    ┆ i64        │\n",
       "╞═══════════════╪══════════╪══════════════╪═══════════╪═══╪═══════╪══════════╪════════╪════════════╡\n",
       "│ Page, Lisa    ┆ West     ┆ ADC          ┆ Full Time ┆ … ┆ 25    ┆ DMR      ┆ 24550  ┆ 1          │\n",
       "│ Taylor,       ┆ West     ┆ ADC          ┆ Half-Time ┆ … ┆ 12    ┆ DM       ┆ 26795  ┆ 4          │\n",
       "│ Hector        ┆          ┆              ┆           ┆   ┆       ┆          ┆        ┆            │\n",
       "│ Dawson,       ┆ West     ┆ ADC          ┆ Contract  ┆ … ┆ 16    ┆ Unknown  ┆ 42540  ┆ 5          │\n",
       "│ Jonathan      ┆          ┆              ┆           ┆   ┆       ┆          ┆        ┆            │\n",
       "│ Duran, Brian  ┆ Taft     ┆ ADC          ┆ Hourly    ┆ … ┆ 11    ┆ Unknown  ┆ 35680  ┆ 2          │\n",
       "│ Weber, Larry  ┆ Watson   ┆ ADC          ┆ Full Time ┆ … ┆ 16    ┆ M        ┆ 72830  ┆ 2          │\n",
       "│ …             ┆ …        ┆ …            ┆ …         ┆ … ┆ …     ┆ …        ┆ …      ┆ …          │\n",
       "│ Olsen, Ewan   ┆ North    ┆ Research/Dev ┆ Contract  ┆ … ┆ 16    ┆ Unknown  ┆ 60760  ┆ 2          │\n",
       "│               ┆          ┆ elopment     ┆           ┆   ┆       ┆          ┆        ┆            │\n",
       "│ Green, Kim    ┆ Watson   ┆ Research/Dev ┆ Half-Time ┆ … ┆ 23    ┆ DMR      ┆ 31250  ┆ 2          │\n",
       "│               ┆          ┆ elopment     ┆           ┆   ┆       ┆          ┆        ┆            │\n",
       "│ Bradshaw,     ┆ North    ┆ Research/Dev ┆ Contract  ┆ … ┆ 15    ┆ Unknown  ┆ 64720  ┆ 5          │\n",
       "│ Sheryl        ┆          ┆ elopment     ┆           ┆   ┆       ┆          ┆        ┆            │\n",
       "│ Riley, David  ┆ Taft     ┆ Research/Dev ┆ Full Time ┆ … ┆ 13    ┆ DMR      ┆ 46680  ┆ 1          │\n",
       "│               ┆          ┆ elopment     ┆           ┆   ┆       ┆          ┆        ┆            │\n",
       "│ Flynn,        ┆ Watson   ┆ Research/Dev ┆ Hourly    ┆ … ┆ 13    ┆ Unknown  ┆ 19044  ┆ 1          │\n",
       "│ Melissa       ┆          ┆ elopment     ┆           ┆   ┆       ┆          ┆        ┆            │\n",
       "└───────────────┴──────────┴──────────────┴───────────┴───┴───────┴──────────┴────────┴────────────┘"
      ]
     },
     "execution_count": 129,
     "metadata": {},
     "output_type": "execute_result"
    }
   ],
   "source": [
    "employees_df"
   ]
  },
  {
   "cell_type": "code",
   "execution_count": 130,
   "metadata": {},
   "outputs": [
    {
     "data": {
      "text/html": [
       "<div><style>\n",
       ".dataframe > thead > tr,\n",
       ".dataframe > tbody > tr {\n",
       "  text-align: right;\n",
       "  white-space: pre-wrap;\n",
       "}\n",
       "</style>\n",
       "<small>shape: (1, 10)</small><table border=\"1\" class=\"dataframe\"><thead><tr><th>Employee Name</th><th>Building</th><th>Department</th><th>Status</th><th>Hire Date</th><th>Month</th><th>Years</th><th>Benefits</th><th>Salary</th><th>Job Rating</th></tr><tr><td>u32</td><td>u32</td><td>u32</td><td>u32</td><td>u32</td><td>u32</td><td>u32</td><td>u32</td><td>u32</td><td>u32</td></tr></thead><tbody><tr><td>0</td><td>0</td><td>0</td><td>0</td><td>0</td><td>0</td><td>0</td><td>0</td><td>0</td><td>0</td></tr></tbody></table></div>"
      ],
      "text/plain": [
       "shape: (1, 10)\n",
       "┌───────────────┬──────────┬────────────┬────────┬───┬───────┬──────────┬────────┬────────────┐\n",
       "│ Employee Name ┆ Building ┆ Department ┆ Status ┆ … ┆ Years ┆ Benefits ┆ Salary ┆ Job Rating │\n",
       "│ ---           ┆ ---      ┆ ---        ┆ ---    ┆   ┆ ---   ┆ ---      ┆ ---    ┆ ---        │\n",
       "│ u32           ┆ u32      ┆ u32        ┆ u32    ┆   ┆ u32   ┆ u32      ┆ u32    ┆ u32        │\n",
       "╞═══════════════╪══════════╪════════════╪════════╪═══╪═══════╪══════════╪════════╪════════════╡\n",
       "│ 0             ┆ 0        ┆ 0          ┆ 0      ┆ … ┆ 0     ┆ 0        ┆ 0      ┆ 0          │\n",
       "└───────────────┴──────────┴────────────┴────────┴───┴───────┴──────────┴────────┴────────────┘"
      ]
     },
     "execution_count": 130,
     "metadata": {},
     "output_type": "execute_result"
    }
   ],
   "source": [
    "employees_df.null_count()"
   ]
  },
  {
   "attachments": {},
   "cell_type": "markdown",
   "metadata": {},
   "source": [
    "### Exploring Orders Data"
   ]
  },
  {
   "cell_type": "code",
   "execution_count": 131,
   "metadata": {},
   "outputs": [],
   "source": [
    "orders_df = pl.read_excel(\"./data/2/H+ Sport Orders.xlsx\")"
   ]
  },
  {
   "cell_type": "code",
   "execution_count": 132,
   "metadata": {},
   "outputs": [
    {
     "data": {
      "text/html": [
       "<div><style>\n",
       ".dataframe > thead > tr,\n",
       ".dataframe > tbody > tr {\n",
       "  text-align: right;\n",
       "  white-space: pre-wrap;\n",
       "}\n",
       "</style>\n",
       "<small>shape: (5, 8)</small><table border=\"1\" class=\"dataframe\"><thead><tr><th>OrderID</th><th>Date</th><th>TotalDue</th><th>Status</th><th>CustomerID</th><th>SalespersonID</th><th>CustomersComment</th><th>SalespersonsComment</th></tr><tr><td>i64</td><td>str</td><td>str</td><td>str</td><td>i64</td><td>i64</td><td>str</td><td>str</td></tr></thead><tbody><tr><td>1000</td><td>&quot;05/14/2016&quot;</td><td>&quot;$140.91&quot;</td><td>&quot;paid&quot;</td><td>413</td><td>130</td><td>null</td><td>null</td></tr><tr><td>1001</td><td>&quot;07/31/2016&quot;</td><td>&quot;$105.32&quot;</td><td>&quot;returned&quot;</td><td>128</td><td>102</td><td>null</td><td>null</td></tr><tr><td>1002</td><td>&quot;07/09/2016&quot;</td><td>&quot;$217.30&quot;</td><td>&quot;past due&quot;</td><td>791</td><td>115</td><td>null</td><td>null</td></tr><tr><td>1003</td><td>&quot;04/04/2016&quot;</td><td>&quot;$281.39&quot;</td><td>&quot;paid&quot;</td><td>974</td><td>139</td><td>null</td><td>null</td></tr><tr><td>1004</td><td>&quot;02/16/2016&quot;</td><td>&quot;$254.76&quot;</td><td>&quot;paid&quot;</td><td>866</td><td>102</td><td>null</td><td>null</td></tr></tbody></table></div>"
      ],
      "text/plain": [
       "shape: (5, 8)\n",
       "┌─────────┬────────────┬──────────┬──────────┬────────────┬─────────────┬─────────────┬────────────┐\n",
       "│ OrderID ┆ Date       ┆ TotalDue ┆ Status   ┆ CustomerID ┆ Salesperson ┆ CustomersCo ┆ Salesperso │\n",
       "│ ---     ┆ ---        ┆ ---      ┆ ---      ┆ ---        ┆ ID          ┆ mment       ┆ nsComment  │\n",
       "│ i64     ┆ str        ┆ str      ┆ str      ┆ i64        ┆ ---         ┆ ---         ┆ ---        │\n",
       "│         ┆            ┆          ┆          ┆            ┆ i64         ┆ str         ┆ str        │\n",
       "╞═════════╪════════════╪══════════╪══════════╪════════════╪═════════════╪═════════════╪════════════╡\n",
       "│ 1000    ┆ 05/14/2016 ┆ $140.91  ┆ paid     ┆ 413        ┆ 130         ┆ null        ┆ null       │\n",
       "│ 1001    ┆ 07/31/2016 ┆ $105.32  ┆ returned ┆ 128        ┆ 102         ┆ null        ┆ null       │\n",
       "│ 1002    ┆ 07/09/2016 ┆ $217.30  ┆ past due ┆ 791        ┆ 115         ┆ null        ┆ null       │\n",
       "│ 1003    ┆ 04/04/2016 ┆ $281.39  ┆ paid     ┆ 974        ┆ 139         ┆ null        ┆ null       │\n",
       "│ 1004    ┆ 02/16/2016 ┆ $254.76  ┆ paid     ┆ 866        ┆ 102         ┆ null        ┆ null       │\n",
       "└─────────┴────────────┴──────────┴──────────┴────────────┴─────────────┴─────────────┴────────────┘"
      ]
     },
     "execution_count": 132,
     "metadata": {},
     "output_type": "execute_result"
    }
   ],
   "source": [
    "orders_df.head()"
   ]
  },
  {
   "cell_type": "code",
   "execution_count": 133,
   "metadata": {},
   "outputs": [
    {
     "data": {
      "text/plain": [
       "(200, 8)"
      ]
     },
     "execution_count": 133,
     "metadata": {},
     "output_type": "execute_result"
    }
   ],
   "source": [
    "orders_df.shape"
   ]
  },
  {
   "attachments": {},
   "cell_type": "markdown",
   "metadata": {},
   "source": [
    "### Cleaning Null Values in Orders DataFrame"
   ]
  },
  {
   "cell_type": "code",
   "execution_count": 136,
   "metadata": {},
   "outputs": [
    {
     "data": {
      "text/html": [
       "<div><style>\n",
       ".dataframe > thead > tr,\n",
       ".dataframe > tbody > tr {\n",
       "  text-align: right;\n",
       "  white-space: pre-wrap;\n",
       "}\n",
       "</style>\n",
       "<small>shape: (1, 8)</small><table border=\"1\" class=\"dataframe\"><thead><tr><th>OrderID</th><th>Date</th><th>TotalDue</th><th>Status</th><th>CustomerID</th><th>SalespersonID</th><th>CustomersComment</th><th>SalespersonsComment</th></tr><tr><td>u32</td><td>u32</td><td>u32</td><td>u32</td><td>u32</td><td>u32</td><td>u32</td><td>u32</td></tr></thead><tbody><tr><td>0</td><td>0</td><td>0</td><td>0</td><td>0</td><td>0</td><td>200</td><td>200</td></tr></tbody></table></div>"
      ],
      "text/plain": [
       "shape: (1, 8)\n",
       "┌─────────┬──────┬──────────┬────────┬────────────┬───────────────┬────────────────┬───────────────┐\n",
       "│ OrderID ┆ Date ┆ TotalDue ┆ Status ┆ CustomerID ┆ SalespersonID ┆ CustomersComme ┆ SalespersonsC │\n",
       "│ ---     ┆ ---  ┆ ---      ┆ ---    ┆ ---        ┆ ---           ┆ nt             ┆ omment        │\n",
       "│ u32     ┆ u32  ┆ u32      ┆ u32    ┆ u32        ┆ u32           ┆ ---            ┆ ---           │\n",
       "│         ┆      ┆          ┆        ┆            ┆               ┆ u32            ┆ u32           │\n",
       "╞═════════╪══════╪══════════╪════════╪════════════╪═══════════════╪════════════════╪═══════════════╡\n",
       "│ 0       ┆ 0    ┆ 0        ┆ 0      ┆ 0          ┆ 0             ┆ 200            ┆ 200           │\n",
       "└─────────┴──────┴──────────┴────────┴────────────┴───────────────┴────────────────┴───────────────┘"
      ]
     },
     "execution_count": 136,
     "metadata": {},
     "output_type": "execute_result"
    }
   ],
   "source": [
    "orders_df.null_count()"
   ]
  },
  {
   "cell_type": "code",
   "execution_count": 137,
   "metadata": {},
   "outputs": [
    {
     "data": {
      "text/html": [
       "<div><style>\n",
       ".dataframe > thead > tr,\n",
       ".dataframe > tbody > tr {\n",
       "  text-align: right;\n",
       "  white-space: pre-wrap;\n",
       "}\n",
       "</style>\n",
       "<small>shape: (5, 8)</small><table border=\"1\" class=\"dataframe\"><thead><tr><th>OrderID</th><th>Date</th><th>TotalDue</th><th>Status</th><th>CustomerID</th><th>SalespersonID</th><th>CustomersComment</th><th>SalespersonsComment</th></tr><tr><td>i64</td><td>str</td><td>str</td><td>str</td><td>i64</td><td>i64</td><td>str</td><td>str</td></tr></thead><tbody><tr><td>1000</td><td>&quot;05/14/2016&quot;</td><td>&quot;$140.91&quot;</td><td>&quot;paid&quot;</td><td>413</td><td>130</td><td>null</td><td>null</td></tr><tr><td>1001</td><td>&quot;07/31/2016&quot;</td><td>&quot;$105.32&quot;</td><td>&quot;returned&quot;</td><td>128</td><td>102</td><td>null</td><td>null</td></tr><tr><td>1002</td><td>&quot;07/09/2016&quot;</td><td>&quot;$217.30&quot;</td><td>&quot;past due&quot;</td><td>791</td><td>115</td><td>null</td><td>null</td></tr><tr><td>1003</td><td>&quot;04/04/2016&quot;</td><td>&quot;$281.39&quot;</td><td>&quot;paid&quot;</td><td>974</td><td>139</td><td>null</td><td>null</td></tr><tr><td>1004</td><td>&quot;02/16/2016&quot;</td><td>&quot;$254.76&quot;</td><td>&quot;paid&quot;</td><td>866</td><td>102</td><td>null</td><td>null</td></tr></tbody></table></div>"
      ],
      "text/plain": [
       "shape: (5, 8)\n",
       "┌─────────┬────────────┬──────────┬──────────┬────────────┬─────────────┬─────────────┬────────────┐\n",
       "│ OrderID ┆ Date       ┆ TotalDue ┆ Status   ┆ CustomerID ┆ Salesperson ┆ CustomersCo ┆ Salesperso │\n",
       "│ ---     ┆ ---        ┆ ---      ┆ ---      ┆ ---        ┆ ID          ┆ mment       ┆ nsComment  │\n",
       "│ i64     ┆ str        ┆ str      ┆ str      ┆ i64        ┆ ---         ┆ ---         ┆ ---        │\n",
       "│         ┆            ┆          ┆          ┆            ┆ i64         ┆ str         ┆ str        │\n",
       "╞═════════╪════════════╪══════════╪══════════╪════════════╪═════════════╪═════════════╪════════════╡\n",
       "│ 1000    ┆ 05/14/2016 ┆ $140.91  ┆ paid     ┆ 413        ┆ 130         ┆ null        ┆ null       │\n",
       "│ 1001    ┆ 07/31/2016 ┆ $105.32  ┆ returned ┆ 128        ┆ 102         ┆ null        ┆ null       │\n",
       "│ 1002    ┆ 07/09/2016 ┆ $217.30  ┆ past due ┆ 791        ┆ 115         ┆ null        ┆ null       │\n",
       "│ 1003    ┆ 04/04/2016 ┆ $281.39  ┆ paid     ┆ 974        ┆ 139         ┆ null        ┆ null       │\n",
       "│ 1004    ┆ 02/16/2016 ┆ $254.76  ┆ paid     ┆ 866        ┆ 102         ┆ null        ┆ null       │\n",
       "└─────────┴────────────┴──────────┴──────────┴────────────┴─────────────┴─────────────┴────────────┘"
      ]
     },
     "execution_count": 137,
     "metadata": {},
     "output_type": "execute_result"
    }
   ],
   "source": [
    "orders_df.head()"
   ]
  },
  {
   "cell_type": "code",
   "execution_count": 138,
   "metadata": {},
   "outputs": [],
   "source": [
    "orders_df = orders_df.with_columns([\n",
    "    orders_df[\"CustomersComment\"].fill_null(\"No Comment\"),\n",
    "    orders_df[\"SalespersonsComment\"].fill_null(\"No Comment\"),\n",
    "])"
   ]
  },
  {
   "cell_type": "code",
   "execution_count": 139,
   "metadata": {},
   "outputs": [
    {
     "data": {
      "text/html": [
       "<div><style>\n",
       ".dataframe > thead > tr,\n",
       ".dataframe > tbody > tr {\n",
       "  text-align: right;\n",
       "  white-space: pre-wrap;\n",
       "}\n",
       "</style>\n",
       "<small>shape: (1, 8)</small><table border=\"1\" class=\"dataframe\"><thead><tr><th>OrderID</th><th>Date</th><th>TotalDue</th><th>Status</th><th>CustomerID</th><th>SalespersonID</th><th>CustomersComment</th><th>SalespersonsComment</th></tr><tr><td>u32</td><td>u32</td><td>u32</td><td>u32</td><td>u32</td><td>u32</td><td>u32</td><td>u32</td></tr></thead><tbody><tr><td>0</td><td>0</td><td>0</td><td>0</td><td>0</td><td>0</td><td>0</td><td>0</td></tr></tbody></table></div>"
      ],
      "text/plain": [
       "shape: (1, 8)\n",
       "┌─────────┬──────┬──────────┬────────┬────────────┬───────────────┬────────────────┬───────────────┐\n",
       "│ OrderID ┆ Date ┆ TotalDue ┆ Status ┆ CustomerID ┆ SalespersonID ┆ CustomersComme ┆ SalespersonsC │\n",
       "│ ---     ┆ ---  ┆ ---      ┆ ---    ┆ ---        ┆ ---           ┆ nt             ┆ omment        │\n",
       "│ u32     ┆ u32  ┆ u32      ┆ u32    ┆ u32        ┆ u32           ┆ ---            ┆ ---           │\n",
       "│         ┆      ┆          ┆        ┆            ┆               ┆ u32            ┆ u32           │\n",
       "╞═════════╪══════╪══════════╪════════╪════════════╪═══════════════╪════════════════╪═══════════════╡\n",
       "│ 0       ┆ 0    ┆ 0        ┆ 0      ┆ 0          ┆ 0             ┆ 0              ┆ 0             │\n",
       "└─────────┴──────┴──────────┴────────┴────────────┴───────────────┴────────────────┴───────────────┘"
      ]
     },
     "execution_count": 139,
     "metadata": {},
     "output_type": "execute_result"
    }
   ],
   "source": [
    "orders_df.null_count()"
   ]
  },
  {
   "cell_type": "code",
   "execution_count": 140,
   "metadata": {},
   "outputs": [
    {
     "data": {
      "text/html": [
       "<div><style>\n",
       ".dataframe > thead > tr,\n",
       ".dataframe > tbody > tr {\n",
       "  text-align: right;\n",
       "  white-space: pre-wrap;\n",
       "}\n",
       "</style>\n",
       "<small>shape: (5, 8)</small><table border=\"1\" class=\"dataframe\"><thead><tr><th>OrderID</th><th>Date</th><th>TotalDue</th><th>Status</th><th>CustomerID</th><th>SalespersonID</th><th>CustomersComment</th><th>SalespersonsComment</th></tr><tr><td>i64</td><td>str</td><td>str</td><td>str</td><td>i64</td><td>i64</td><td>str</td><td>str</td></tr></thead><tbody><tr><td>1000</td><td>&quot;05/14/2016&quot;</td><td>&quot;$140.91&quot;</td><td>&quot;paid&quot;</td><td>413</td><td>130</td><td>&quot;No Comment&quot;</td><td>&quot;No Comment&quot;</td></tr><tr><td>1001</td><td>&quot;07/31/2016&quot;</td><td>&quot;$105.32&quot;</td><td>&quot;returned&quot;</td><td>128</td><td>102</td><td>&quot;No Comment&quot;</td><td>&quot;No Comment&quot;</td></tr><tr><td>1002</td><td>&quot;07/09/2016&quot;</td><td>&quot;$217.30&quot;</td><td>&quot;past due&quot;</td><td>791</td><td>115</td><td>&quot;No Comment&quot;</td><td>&quot;No Comment&quot;</td></tr><tr><td>1003</td><td>&quot;04/04/2016&quot;</td><td>&quot;$281.39&quot;</td><td>&quot;paid&quot;</td><td>974</td><td>139</td><td>&quot;No Comment&quot;</td><td>&quot;No Comment&quot;</td></tr><tr><td>1004</td><td>&quot;02/16/2016&quot;</td><td>&quot;$254.76&quot;</td><td>&quot;paid&quot;</td><td>866</td><td>102</td><td>&quot;No Comment&quot;</td><td>&quot;No Comment&quot;</td></tr></tbody></table></div>"
      ],
      "text/plain": [
       "shape: (5, 8)\n",
       "┌─────────┬────────────┬──────────┬──────────┬────────────┬─────────────┬─────────────┬────────────┐\n",
       "│ OrderID ┆ Date       ┆ TotalDue ┆ Status   ┆ CustomerID ┆ Salesperson ┆ CustomersCo ┆ Salesperso │\n",
       "│ ---     ┆ ---        ┆ ---      ┆ ---      ┆ ---        ┆ ID          ┆ mment       ┆ nsComment  │\n",
       "│ i64     ┆ str        ┆ str      ┆ str      ┆ i64        ┆ ---         ┆ ---         ┆ ---        │\n",
       "│         ┆            ┆          ┆          ┆            ┆ i64         ┆ str         ┆ str        │\n",
       "╞═════════╪════════════╪══════════╪══════════╪════════════╪═════════════╪═════════════╪════════════╡\n",
       "│ 1000    ┆ 05/14/2016 ┆ $140.91  ┆ paid     ┆ 413        ┆ 130         ┆ No Comment  ┆ No Comment │\n",
       "│ 1001    ┆ 07/31/2016 ┆ $105.32  ┆ returned ┆ 128        ┆ 102         ┆ No Comment  ┆ No Comment │\n",
       "│ 1002    ┆ 07/09/2016 ┆ $217.30  ┆ past due ┆ 791        ┆ 115         ┆ No Comment  ┆ No Comment │\n",
       "│ 1003    ┆ 04/04/2016 ┆ $281.39  ┆ paid     ┆ 974        ┆ 139         ┆ No Comment  ┆ No Comment │\n",
       "│ 1004    ┆ 02/16/2016 ┆ $254.76  ┆ paid     ┆ 866        ┆ 102         ┆ No Comment  ┆ No Comment │\n",
       "└─────────┴────────────┴──────────┴──────────┴────────────┴─────────────┴─────────────┴────────────┘"
      ]
     },
     "execution_count": 140,
     "metadata": {},
     "output_type": "execute_result"
    }
   ],
   "source": [
    "orders_df.head()"
   ]
  }
 ],
 "metadata": {
  "kernelspec": {
   "display_name": "base",
   "language": "python",
   "name": "python3"
  },
  "language_info": {
   "codemirror_mode": {
    "name": "ipython",
    "version": 3
   },
   "file_extension": ".py",
   "mimetype": "text/x-python",
   "name": "python",
   "nbconvert_exporter": "python",
   "pygments_lexer": "ipython3",
   "version": "3.11.5"
  },
  "orig_nbformat": 4
 },
 "nbformat": 4,
 "nbformat_minor": 2
}
