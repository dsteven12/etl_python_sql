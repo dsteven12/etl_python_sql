{
 "cells": [
  {
   "cell_type": "code",
   "execution_count": 5,
   "metadata": {},
   "outputs": [],
   "source": [
    "import pandas as pd\n",
    "import sqlalchemy as db\n",
    "import os\n",
    "from dotenv import load_dotenv\n",
    "\n",
    "load_dotenv()"
   ]
  },
  {
   "attachments": {},
   "cell_type": "markdown",
   "metadata": {},
   "source": [
    "### Testing Database Loading with Environment Variables"
   ]
  },
  {
   "cell_type": "code",
   "execution_count": 12,
   "metadata": {},
   "outputs": [],
   "source": [
    "# DB_STRING=os.getenv('DB_STRING')\n",
    "# USERNAME=os.getenv('USERNAME')\n",
    "# PASSWORD=os.getenv('PASSWORD')\n",
    "# HOSTNAME=os.getenv('HOSTNAME')\n",
    "# PORT=os.getenv('PORT')\n",
    "# DB_NAME=os.getenv('DB_NAME')\n",
    "\n",
    "#orders_table = './data/orders/orders.parquet'\n",
    "#engine = db.create_engine(f'{DB_STRING}://{USERNAME}:{PASSWORD}@{HOSTNAME}:{PORT}/{DB_NAME}')"
   ]
  },
  {
   "attachments": {},
   "cell_type": "markdown",
   "metadata": {},
   "source": [
    "### Parquet Validation"
   ]
  },
  {
   "cell_type": "code",
   "execution_count": null,
   "metadata": {},
   "outputs": [],
   "source": [
    "orders_partition = pd.read_parquet('./data/orders/orders_1.parquet')\n",
    "new_orders_partition = pd.read_parquet('./data/new_orders/orders_2.parquet')"
   ]
  },
  {
   "cell_type": "code",
   "execution_count": 7,
   "metadata": {},
   "outputs": [
    {
     "data": {
      "text/html": [
       "<div>\n",
       "<style scoped>\n",
       "    .dataframe tbody tr th:only-of-type {\n",
       "        vertical-align: middle;\n",
       "    }\n",
       "\n",
       "    .dataframe tbody tr th {\n",
       "        vertical-align: top;\n",
       "    }\n",
       "\n",
       "    .dataframe thead th {\n",
       "        text-align: right;\n",
       "    }\n",
       "</style>\n",
       "<table border=\"1\" class=\"dataframe\">\n",
       "  <thead>\n",
       "    <tr style=\"text-align: right;\">\n",
       "      <th></th>\n",
       "      <th>OrderID</th>\n",
       "      <th>Date</th>\n",
       "      <th>TotalDue</th>\n",
       "      <th>Status</th>\n",
       "      <th>CustomerID</th>\n",
       "      <th>SalespersonID</th>\n",
       "      <th>CustomersComment</th>\n",
       "      <th>SalespersonsComment</th>\n",
       "    </tr>\n",
       "  </thead>\n",
       "  <tbody>\n",
       "    <tr>\n",
       "      <th>0</th>\n",
       "      <td>1000</td>\n",
       "      <td>05/14/2016</td>\n",
       "      <td>$140.91</td>\n",
       "      <td>paid</td>\n",
       "      <td>413</td>\n",
       "      <td>130</td>\n",
       "      <td>No Comment</td>\n",
       "      <td>No Comment</td>\n",
       "    </tr>\n",
       "    <tr>\n",
       "      <th>1</th>\n",
       "      <td>1001</td>\n",
       "      <td>07/31/2016</td>\n",
       "      <td>$105.32</td>\n",
       "      <td>returned</td>\n",
       "      <td>128</td>\n",
       "      <td>102</td>\n",
       "      <td>No Comment</td>\n",
       "      <td>No Comment</td>\n",
       "    </tr>\n",
       "    <tr>\n",
       "      <th>2</th>\n",
       "      <td>1002</td>\n",
       "      <td>07/09/2016</td>\n",
       "      <td>$217.30</td>\n",
       "      <td>past due</td>\n",
       "      <td>791</td>\n",
       "      <td>115</td>\n",
       "      <td>No Comment</td>\n",
       "      <td>No Comment</td>\n",
       "    </tr>\n",
       "    <tr>\n",
       "      <th>3</th>\n",
       "      <td>1003</td>\n",
       "      <td>04/04/2016</td>\n",
       "      <td>$281.39</td>\n",
       "      <td>paid</td>\n",
       "      <td>974</td>\n",
       "      <td>139</td>\n",
       "      <td>No Comment</td>\n",
       "      <td>No Comment</td>\n",
       "    </tr>\n",
       "    <tr>\n",
       "      <th>4</th>\n",
       "      <td>1004</td>\n",
       "      <td>02/16/2016</td>\n",
       "      <td>$254.76</td>\n",
       "      <td>paid</td>\n",
       "      <td>866</td>\n",
       "      <td>102</td>\n",
       "      <td>No Comment</td>\n",
       "      <td>No Comment</td>\n",
       "    </tr>\n",
       "  </tbody>\n",
       "</table>\n",
       "</div>"
      ],
      "text/plain": [
       "   OrderID        Date TotalDue    Status  CustomerID  SalespersonID  \\\n",
       "0     1000  05/14/2016  $140.91      paid         413            130   \n",
       "1     1001  07/31/2016  $105.32  returned         128            102   \n",
       "2     1002  07/09/2016  $217.30  past due         791            115   \n",
       "3     1003  04/04/2016  $281.39      paid         974            139   \n",
       "4     1004  02/16/2016  $254.76      paid         866            102   \n",
       "\n",
       "  CustomersComment SalespersonsComment  \n",
       "0       No Comment          No Comment  \n",
       "1       No Comment          No Comment  \n",
       "2       No Comment          No Comment  \n",
       "3       No Comment          No Comment  \n",
       "4       No Comment          No Comment  "
      ]
     },
     "execution_count": 7,
     "metadata": {},
     "output_type": "execute_result"
    }
   ],
   "source": [
    "orders_partition.head()"
   ]
  },
  {
   "cell_type": "code",
   "execution_count": 9,
   "metadata": {},
   "outputs": [
    {
     "data": {
      "text/plain": [
       "(10, 8)"
      ]
     },
     "execution_count": 9,
     "metadata": {},
     "output_type": "execute_result"
    }
   ],
   "source": [
    "orders_partition.shape"
   ]
  },
  {
   "cell_type": "code",
   "execution_count": 13,
   "metadata": {},
   "outputs": [
    {
     "data": {
      "text/html": [
       "<div>\n",
       "<style scoped>\n",
       "    .dataframe tbody tr th:only-of-type {\n",
       "        vertical-align: middle;\n",
       "    }\n",
       "\n",
       "    .dataframe tbody tr th {\n",
       "        vertical-align: top;\n",
       "    }\n",
       "\n",
       "    .dataframe thead th {\n",
       "        text-align: right;\n",
       "    }\n",
       "</style>\n",
       "<table border=\"1\" class=\"dataframe\">\n",
       "  <thead>\n",
       "    <tr style=\"text-align: right;\">\n",
       "      <th></th>\n",
       "      <th>OrderID</th>\n",
       "      <th>Date</th>\n",
       "      <th>TotalDue</th>\n",
       "      <th>Status</th>\n",
       "      <th>CustomerID</th>\n",
       "      <th>SalespersonID</th>\n",
       "      <th>CustomersComment</th>\n",
       "      <th>SalespersonsComment</th>\n",
       "    </tr>\n",
       "  </thead>\n",
       "  <tbody>\n",
       "    <tr>\n",
       "      <th>10</th>\n",
       "      <td>1010</td>\n",
       "      <td>07/15/2015</td>\n",
       "      <td>$208.30</td>\n",
       "      <td>paid</td>\n",
       "      <td>653</td>\n",
       "      <td>121</td>\n",
       "      <td>No Comment</td>\n",
       "      <td>No Comment</td>\n",
       "    </tr>\n",
       "    <tr>\n",
       "      <th>11</th>\n",
       "      <td>1011</td>\n",
       "      <td>04/12/2016</td>\n",
       "      <td>$333.93</td>\n",
       "      <td>paid</td>\n",
       "      <td>811</td>\n",
       "      <td>108</td>\n",
       "      <td>No Comment</td>\n",
       "      <td>No Comment</td>\n",
       "    </tr>\n",
       "    <tr>\n",
       "      <th>12</th>\n",
       "      <td>1012</td>\n",
       "      <td>08/26/2015</td>\n",
       "      <td>$170.13</td>\n",
       "      <td>paid</td>\n",
       "      <td>751</td>\n",
       "      <td>118</td>\n",
       "      <td>No Comment</td>\n",
       "      <td>No Comment</td>\n",
       "    </tr>\n",
       "    <tr>\n",
       "      <th>13</th>\n",
       "      <td>1013</td>\n",
       "      <td>08/15/2015</td>\n",
       "      <td>$55.67</td>\n",
       "      <td>past due</td>\n",
       "      <td>1093</td>\n",
       "      <td>150</td>\n",
       "      <td>No Comment</td>\n",
       "      <td>No Comment</td>\n",
       "    </tr>\n",
       "    <tr>\n",
       "      <th>14</th>\n",
       "      <td>1014</td>\n",
       "      <td>11/22/2015</td>\n",
       "      <td>$334.58</td>\n",
       "      <td>past due</td>\n",
       "      <td>181</td>\n",
       "      <td>144</td>\n",
       "      <td>No Comment</td>\n",
       "      <td>No Comment</td>\n",
       "    </tr>\n",
       "  </tbody>\n",
       "</table>\n",
       "</div>"
      ],
      "text/plain": [
       "    OrderID        Date TotalDue    Status  CustomerID  SalespersonID  \\\n",
       "10     1010  07/15/2015  $208.30      paid         653            121   \n",
       "11     1011  04/12/2016  $333.93      paid         811            108   \n",
       "12     1012  08/26/2015  $170.13      paid         751            118   \n",
       "13     1013  08/15/2015   $55.67  past due        1093            150   \n",
       "14     1014  11/22/2015  $334.58  past due         181            144   \n",
       "\n",
       "   CustomersComment SalespersonsComment  \n",
       "10       No Comment          No Comment  \n",
       "11       No Comment          No Comment  \n",
       "12       No Comment          No Comment  \n",
       "13       No Comment          No Comment  \n",
       "14       No Comment          No Comment  "
      ]
     },
     "execution_count": 13,
     "metadata": {},
     "output_type": "execute_result"
    }
   ],
   "source": [
    "new_orders_partition.head()"
   ]
  },
  {
   "cell_type": "code",
   "execution_count": 14,
   "metadata": {},
   "outputs": [
    {
     "data": {
      "text/plain": [
       "(10, 8)"
      ]
     },
     "execution_count": 14,
     "metadata": {},
     "output_type": "execute_result"
    }
   ],
   "source": [
    "new_orders_partition.shape"
   ]
  }
 ],
 "metadata": {
  "kernelspec": {
   "display_name": "Python 3",
   "language": "python",
   "name": "python3"
  },
  "language_info": {
   "codemirror_mode": {
    "name": "ipython",
    "version": 3
   },
   "file_extension": ".py",
   "mimetype": "text/x-python",
   "name": "python",
   "nbconvert_exporter": "python",
   "pygments_lexer": "ipython3",
   "version": "3.9.12"
  },
  "orig_nbformat": 4
 },
 "nbformat": 4,
 "nbformat_minor": 2
}
