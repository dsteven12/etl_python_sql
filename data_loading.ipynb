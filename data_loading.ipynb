{
 "cells": [
  {
   "cell_type": "code",
   "execution_count": 1,
   "metadata": {},
   "outputs": [
    {
     "data": {
      "text/plain": [
       "True"
      ]
     },
     "execution_count": 1,
     "metadata": {},
     "output_type": "execute_result"
    }
   ],
   "source": [
    "import pandas as pd\n",
    "import sqlalchemy as db\n",
    "import os\n",
    "from dotenv import load_dotenv\n",
    "\n",
    "load_dotenv()"
   ]
  },
  {
   "cell_type": "code",
   "execution_count": 2,
   "metadata": {},
   "outputs": [],
   "source": [
    "DB_STRING=os.getenv('DB_STRING')\n",
    "USERNAME=os.getenv('USERNAME')\n",
    "PASSWORD=os.getenv('PASSWORD')\n",
    "HOSTNAME=os.getenv('HOSTNAME')\n",
    "PORT=os.getenv('PORT')\n",
    "DB_NAME=os.getenv('DB_NAME')\n",
    "\n",
    "orders_table = './data/orders/orders.parquet'\n",
    "engine = db.create_engine(f'{DB_STRING}://{USERNAME}:{PASSWORD}@{HOSTNAME}:{PORT}/{DB_NAME}')"
   ]
  }
 ],
 "metadata": {
  "kernelspec": {
   "display_name": "Python 3",
   "language": "python",
   "name": "python3"
  },
  "language_info": {
   "codemirror_mode": {
    "name": "ipython",
    "version": 3
   },
   "file_extension": ".py",
   "mimetype": "text/x-python",
   "name": "python",
   "nbconvert_exporter": "python",
   "pygments_lexer": "ipython3",
   "version": "3.9.12"
  },
  "orig_nbformat": 4
 },
 "nbformat": 4,
 "nbformat_minor": 2
}
